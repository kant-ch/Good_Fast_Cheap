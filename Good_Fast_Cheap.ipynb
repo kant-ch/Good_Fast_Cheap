{
 "cells": [
  {
   "cell_type": "code",
   "execution_count": 3,
   "id": "0e81e343-1b1d-47be-afcb-ea2b4377c7e6",
   "metadata": {},
   "outputs": [],
   "source": [
    "# Import Libraries\n",
    "import pandas as pd\n",
    "import numpy as np\n",
    "import matplotlib.pyplot as plt\n",
    "import seaborn as sns\n",
    "\n",
    "# Import train_test_split\n",
    "from sklearn.model_selection import train_test_split, GridSearchCV\n",
    "from sklearn.linear_model import LogisticRegression\n",
    "from sklearn.ensemble import RandomForestClassifier, BaggingClassifier \n",
    "from sklearn.tree import DecisionTreeClassifier\n",
    "\n",
    "# Import metrics\n",
    "from sklearn.metrics import confusion_matrix, ConfusionMatrixDisplay,\\\n",
    "accuracy_score, plot_roc_curve, roc_auc_score, recall_score, \\\n",
    "precision_score, f1_score, classification_report\n",
    "\n",
    "# Import Lazypredict\n",
    "from lazypredict.Supervised import LazyClassifier\n",
    "\n",
    "# SMOTE\n",
    "from imblearn.over_sampling import SMOTE\n",
    "from imblearn.pipeline import Pipeline\n",
    "\n",
    "# Scaler\n",
    "from sklearn.preprocessing import StandardScaler\n",
    "\n",
    "from tensorflow.keras.models import Sequential\n",
    "from tensorflow.keras.layers import Dense\n",
    "from tensorflow.keras.regularizers import l2\n",
    "from tensorflow.keras.layers import Dropout\n",
    "from tensorflow.keras.callbacks import EarlyStopping"
   ]
  },
  {
   "cell_type": "code",
   "execution_count": 4,
   "id": "eedf9113-cf7f-4b1e-9acc-d50c29062d5e",
   "metadata": {},
   "outputs": [],
   "source": [
    "df = pd.read_csv('cheap_train_sample.csv')"
   ]
  },
  {
   "cell_type": "code",
   "execution_count": 5,
   "id": "19bbafc6-0742-4555-8aa5-54e646b9f145",
   "metadata": {},
   "outputs": [
    {
     "data": {
      "text/html": [
       "<div>\n",
       "<style scoped>\n",
       "    .dataframe tbody tr th:only-of-type {\n",
       "        vertical-align: middle;\n",
       "    }\n",
       "\n",
       "    .dataframe tbody tr th {\n",
       "        vertical-align: top;\n",
       "    }\n",
       "\n",
       "    .dataframe thead th {\n",
       "        text-align: right;\n",
       "    }\n",
       "</style>\n",
       "<table border=\"1\" class=\"dataframe\">\n",
       "  <thead>\n",
       "    <tr style=\"text-align: right;\">\n",
       "      <th></th>\n",
       "      <th>age</th>\n",
       "      <th>workclass</th>\n",
       "      <th>fnlwgt</th>\n",
       "      <th>education</th>\n",
       "      <th>education-num</th>\n",
       "      <th>marital-status</th>\n",
       "      <th>occupation</th>\n",
       "      <th>relationship</th>\n",
       "      <th>sex</th>\n",
       "      <th>capital-gain</th>\n",
       "      <th>capital-loss</th>\n",
       "      <th>hours-per-week</th>\n",
       "      <th>native-country</th>\n",
       "      <th>wage</th>\n",
       "    </tr>\n",
       "  </thead>\n",
       "  <tbody>\n",
       "    <tr>\n",
       "      <th>0</th>\n",
       "      <td>56</td>\n",
       "      <td>Private</td>\n",
       "      <td>346033</td>\n",
       "      <td>9th</td>\n",
       "      <td>5</td>\n",
       "      <td>Divorced</td>\n",
       "      <td>Adm-clerical</td>\n",
       "      <td>Not-in-family</td>\n",
       "      <td>Male</td>\n",
       "      <td>0</td>\n",
       "      <td>0</td>\n",
       "      <td>40</td>\n",
       "      <td>United-States</td>\n",
       "      <td>&lt;=50K</td>\n",
       "    </tr>\n",
       "    <tr>\n",
       "      <th>1</th>\n",
       "      <td>28</td>\n",
       "      <td>Private</td>\n",
       "      <td>96226</td>\n",
       "      <td>HS-grad</td>\n",
       "      <td>9</td>\n",
       "      <td>Married-civ-spouse</td>\n",
       "      <td>Craft-repair</td>\n",
       "      <td>Husband</td>\n",
       "      <td>Male</td>\n",
       "      <td>0</td>\n",
       "      <td>0</td>\n",
       "      <td>45</td>\n",
       "      <td>United-States</td>\n",
       "      <td>&lt;=50K</td>\n",
       "    </tr>\n",
       "    <tr>\n",
       "      <th>2</th>\n",
       "      <td>33</td>\n",
       "      <td>Private</td>\n",
       "      <td>251120</td>\n",
       "      <td>Bachelors</td>\n",
       "      <td>13</td>\n",
       "      <td>Married-civ-spouse</td>\n",
       "      <td>Sales</td>\n",
       "      <td>Husband</td>\n",
       "      <td>Male</td>\n",
       "      <td>7688</td>\n",
       "      <td>0</td>\n",
       "      <td>50</td>\n",
       "      <td>United-States</td>\n",
       "      <td>&gt;50K</td>\n",
       "    </tr>\n",
       "    <tr>\n",
       "      <th>3</th>\n",
       "      <td>26</td>\n",
       "      <td>Private</td>\n",
       "      <td>178140</td>\n",
       "      <td>Bachelors</td>\n",
       "      <td>13</td>\n",
       "      <td>Married-civ-spouse</td>\n",
       "      <td>Other-service</td>\n",
       "      <td>Husband</td>\n",
       "      <td>Male</td>\n",
       "      <td>0</td>\n",
       "      <td>0</td>\n",
       "      <td>45</td>\n",
       "      <td>United-States</td>\n",
       "      <td>&gt;50K</td>\n",
       "    </tr>\n",
       "    <tr>\n",
       "      <th>4</th>\n",
       "      <td>40</td>\n",
       "      <td>Federal-gov</td>\n",
       "      <td>56795</td>\n",
       "      <td>Masters</td>\n",
       "      <td>14</td>\n",
       "      <td>Never-married</td>\n",
       "      <td>Exec-managerial</td>\n",
       "      <td>Not-in-family</td>\n",
       "      <td>Female</td>\n",
       "      <td>14084</td>\n",
       "      <td>0</td>\n",
       "      <td>55</td>\n",
       "      <td>United-States</td>\n",
       "      <td>&gt;50K</td>\n",
       "    </tr>\n",
       "  </tbody>\n",
       "</table>\n",
       "</div>"
      ],
      "text/plain": [
       "   age     workclass  fnlwgt   education  education-num       marital-status  \\\n",
       "0   56       Private  346033         9th              5             Divorced   \n",
       "1   28       Private   96226     HS-grad              9   Married-civ-spouse   \n",
       "2   33       Private  251120   Bachelors             13   Married-civ-spouse   \n",
       "3   26       Private  178140   Bachelors             13   Married-civ-spouse   \n",
       "4   40   Federal-gov   56795     Masters             14        Never-married   \n",
       "\n",
       "         occupation    relationship      sex  capital-gain  capital-loss  \\\n",
       "0      Adm-clerical   Not-in-family     Male             0             0   \n",
       "1      Craft-repair         Husband     Male             0             0   \n",
       "2             Sales         Husband     Male          7688             0   \n",
       "3     Other-service         Husband     Male             0             0   \n",
       "4   Exec-managerial   Not-in-family   Female         14084             0   \n",
       "\n",
       "   hours-per-week  native-country    wage  \n",
       "0              40   United-States   <=50K  \n",
       "1              45   United-States   <=50K  \n",
       "2              50   United-States    >50K  \n",
       "3              45   United-States    >50K  \n",
       "4              55   United-States    >50K  "
      ]
     },
     "execution_count": 5,
     "metadata": {},
     "output_type": "execute_result"
    }
   ],
   "source": [
    "df.head()"
   ]
  },
  {
   "cell_type": "code",
   "execution_count": 6,
   "id": "eed96120-5914-4f50-9545-27fbbf383e8d",
   "metadata": {},
   "outputs": [
    {
     "data": {
      "text/plain": [
       "Index(['age', 'workclass', 'fnlwgt', 'education', 'education-num',\n",
       "       'marital-status', 'occupation', 'relationship', 'sex', 'capital-gain',\n",
       "       'capital-loss', 'hours-per-week', 'native-country', 'wage'],\n",
       "      dtype='object')"
      ]
     },
     "execution_count": 6,
     "metadata": {},
     "output_type": "execute_result"
    }
   ],
   "source": [
    "df.columns"
   ]
  },
  {
   "cell_type": "code",
   "execution_count": 7,
   "id": "fc8f1031-ca64-478d-9261-d9424a72f040",
   "metadata": {},
   "outputs": [
    {
     "data": {
      "text/plain": [
       "(6513, 14)"
      ]
     },
     "execution_count": 7,
     "metadata": {},
     "output_type": "execute_result"
    }
   ],
   "source": [
    "df.shape"
   ]
  },
  {
   "cell_type": "code",
   "execution_count": 8,
   "id": "e3943f2d-19fe-45c7-807b-1db1ab5cddcd",
   "metadata": {},
   "outputs": [
    {
     "data": {
      "text/plain": [
       "age                int64\n",
       "workclass         object\n",
       "fnlwgt             int64\n",
       "education         object\n",
       "education-num      int64\n",
       "marital-status    object\n",
       "occupation        object\n",
       "relationship      object\n",
       "sex               object\n",
       "capital-gain       int64\n",
       "capital-loss       int64\n",
       "hours-per-week     int64\n",
       "native-country    object\n",
       "wage              object\n",
       "dtype: object"
      ]
     },
     "execution_count": 8,
     "metadata": {},
     "output_type": "execute_result"
    }
   ],
   "source": [
    "df.dtypes"
   ]
  },
  {
   "cell_type": "code",
   "execution_count": 9,
   "id": "40987e2c-b1d3-48bd-b9bd-207807bd33b7",
   "metadata": {},
   "outputs": [
    {
     "data": {
      "text/plain": [
       "workclass          9\n",
       "education         16\n",
       "marital-status     7\n",
       "occupation        15\n",
       "relationship       6\n",
       "sex                2\n",
       "native-country    41\n",
       "wage               2\n",
       "dtype: int64"
      ]
     },
     "execution_count": 9,
     "metadata": {},
     "output_type": "execute_result"
    }
   ],
   "source": [
    "df.select_dtypes(include='object').nunique()"
   ]
  },
  {
   "cell_type": "code",
   "execution_count": 10,
   "id": "887aa53d-2125-47bf-b990-01eba0653983",
   "metadata": {},
   "outputs": [
    {
     "data": {
      "text/plain": [
       " HS-grad         2103\n",
       " Some-college    1451\n",
       " Bachelors       1113\n",
       " Masters          334\n",
       " Assoc-voc        250\n",
       " 11th             225\n",
       " Assoc-acdm       222\n",
       " 10th             175\n",
       " 7th-8th          142\n",
       " 9th              106\n",
       " Prof-school      103\n",
       " 12th              89\n",
       " Doctorate         81\n",
       " 5th-6th           79\n",
       " 1st-4th           27\n",
       " Preschool         13\n",
       "Name: education, dtype: int64"
      ]
     },
     "execution_count": 10,
     "metadata": {},
     "output_type": "execute_result"
    }
   ],
   "source": [
    "df['education'].value_counts()"
   ]
  },
  {
   "cell_type": "code",
   "execution_count": 11,
   "id": "1c81d240-1a79-411a-8c6a-b15a534d1d4b",
   "metadata": {},
   "outputs": [
    {
     "data": {
      "text/plain": [
       "Series([], dtype: int64)"
      ]
     },
     "execution_count": 11,
     "metadata": {},
     "output_type": "execute_result"
    }
   ],
   "source": [
    "df.isnull().sum()[df.isnull().sum() != 0]"
   ]
  },
  {
   "cell_type": "code",
   "execution_count": 12,
   "id": "e1e6b8e8-527b-4351-bd87-000acb29d050",
   "metadata": {},
   "outputs": [
    {
     "data": {
      "text/html": [
       "<div>\n",
       "<style scoped>\n",
       "    .dataframe tbody tr th:only-of-type {\n",
       "        vertical-align: middle;\n",
       "    }\n",
       "\n",
       "    .dataframe tbody tr th {\n",
       "        vertical-align: top;\n",
       "    }\n",
       "\n",
       "    .dataframe thead th {\n",
       "        text-align: right;\n",
       "    }\n",
       "</style>\n",
       "<table border=\"1\" class=\"dataframe\">\n",
       "  <thead>\n",
       "    <tr style=\"text-align: right;\">\n",
       "      <th></th>\n",
       "      <th>age</th>\n",
       "      <th>workclass</th>\n",
       "      <th>fnlwgt</th>\n",
       "      <th>education</th>\n",
       "      <th>education-num</th>\n",
       "      <th>marital-status</th>\n",
       "      <th>occupation</th>\n",
       "      <th>relationship</th>\n",
       "      <th>sex</th>\n",
       "      <th>capital-gain</th>\n",
       "      <th>capital-loss</th>\n",
       "      <th>hours-per-week</th>\n",
       "      <th>native-country</th>\n",
       "      <th>wage</th>\n",
       "    </tr>\n",
       "  </thead>\n",
       "  <tbody>\n",
       "    <tr>\n",
       "      <th>0</th>\n",
       "      <td>56</td>\n",
       "      <td>Private</td>\n",
       "      <td>346033</td>\n",
       "      <td>9th</td>\n",
       "      <td>5</td>\n",
       "      <td>Divorced</td>\n",
       "      <td>Adm-clerical</td>\n",
       "      <td>Not-in-family</td>\n",
       "      <td>Male</td>\n",
       "      <td>0</td>\n",
       "      <td>0</td>\n",
       "      <td>40</td>\n",
       "      <td>United-States</td>\n",
       "      <td>&lt;=50K</td>\n",
       "    </tr>\n",
       "    <tr>\n",
       "      <th>1</th>\n",
       "      <td>28</td>\n",
       "      <td>Private</td>\n",
       "      <td>96226</td>\n",
       "      <td>HS-grad</td>\n",
       "      <td>9</td>\n",
       "      <td>Married-civ-spouse</td>\n",
       "      <td>Craft-repair</td>\n",
       "      <td>Husband</td>\n",
       "      <td>Male</td>\n",
       "      <td>0</td>\n",
       "      <td>0</td>\n",
       "      <td>45</td>\n",
       "      <td>United-States</td>\n",
       "      <td>&lt;=50K</td>\n",
       "    </tr>\n",
       "    <tr>\n",
       "      <th>2</th>\n",
       "      <td>33</td>\n",
       "      <td>Private</td>\n",
       "      <td>251120</td>\n",
       "      <td>Bachelors</td>\n",
       "      <td>13</td>\n",
       "      <td>Married-civ-spouse</td>\n",
       "      <td>Sales</td>\n",
       "      <td>Husband</td>\n",
       "      <td>Male</td>\n",
       "      <td>7688</td>\n",
       "      <td>0</td>\n",
       "      <td>50</td>\n",
       "      <td>United-States</td>\n",
       "      <td>&gt;50K</td>\n",
       "    </tr>\n",
       "    <tr>\n",
       "      <th>3</th>\n",
       "      <td>26</td>\n",
       "      <td>Private</td>\n",
       "      <td>178140</td>\n",
       "      <td>Bachelors</td>\n",
       "      <td>13</td>\n",
       "      <td>Married-civ-spouse</td>\n",
       "      <td>Other-service</td>\n",
       "      <td>Husband</td>\n",
       "      <td>Male</td>\n",
       "      <td>0</td>\n",
       "      <td>0</td>\n",
       "      <td>45</td>\n",
       "      <td>United-States</td>\n",
       "      <td>&gt;50K</td>\n",
       "    </tr>\n",
       "    <tr>\n",
       "      <th>4</th>\n",
       "      <td>40</td>\n",
       "      <td>Federal-gov</td>\n",
       "      <td>56795</td>\n",
       "      <td>Masters</td>\n",
       "      <td>14</td>\n",
       "      <td>Never-married</td>\n",
       "      <td>Exec-managerial</td>\n",
       "      <td>Not-in-family</td>\n",
       "      <td>Female</td>\n",
       "      <td>14084</td>\n",
       "      <td>0</td>\n",
       "      <td>55</td>\n",
       "      <td>United-States</td>\n",
       "      <td>&gt;50K</td>\n",
       "    </tr>\n",
       "  </tbody>\n",
       "</table>\n",
       "</div>"
      ],
      "text/plain": [
       "   age     workclass  fnlwgt   education  education-num       marital-status  \\\n",
       "0   56       Private  346033         9th              5             Divorced   \n",
       "1   28       Private   96226     HS-grad              9   Married-civ-spouse   \n",
       "2   33       Private  251120   Bachelors             13   Married-civ-spouse   \n",
       "3   26       Private  178140   Bachelors             13   Married-civ-spouse   \n",
       "4   40   Federal-gov   56795     Masters             14        Never-married   \n",
       "\n",
       "         occupation    relationship      sex  capital-gain  capital-loss  \\\n",
       "0      Adm-clerical   Not-in-family     Male             0             0   \n",
       "1      Craft-repair         Husband     Male             0             0   \n",
       "2             Sales         Husband     Male          7688             0   \n",
       "3     Other-service         Husband     Male             0             0   \n",
       "4   Exec-managerial   Not-in-family   Female         14084             0   \n",
       "\n",
       "   hours-per-week  native-country    wage  \n",
       "0              40   United-States   <=50K  \n",
       "1              45   United-States   <=50K  \n",
       "2              50   United-States    >50K  \n",
       "3              45   United-States    >50K  \n",
       "4              55   United-States    >50K  "
      ]
     },
     "execution_count": 12,
     "metadata": {},
     "output_type": "execute_result"
    }
   ],
   "source": [
    "df.head()"
   ]
  },
  {
   "cell_type": "code",
   "execution_count": 13,
   "id": "8cc8e37a-5582-48f6-9a8c-5fdd787c175b",
   "metadata": {},
   "outputs": [
    {
     "data": {
      "text/plain": [
       " <=50K    4945\n",
       " >50K     1568\n",
       "Name: wage, dtype: int64"
      ]
     },
     "execution_count": 13,
     "metadata": {},
     "output_type": "execute_result"
    }
   ],
   "source": [
    "df['wage'].value_counts()"
   ]
  },
  {
   "cell_type": "code",
   "execution_count": 14,
   "id": "8378e911-70dd-4c35-8e68-4aba05009e41",
   "metadata": {},
   "outputs": [
    {
     "data": {
      "text/plain": [
       " Male      4326\n",
       " Female    2187\n",
       "Name: sex, dtype: int64"
      ]
     },
     "execution_count": 14,
     "metadata": {},
     "output_type": "execute_result"
    }
   ],
   "source": [
    "df['sex'].value_counts()"
   ]
  },
  {
   "cell_type": "code",
   "execution_count": 15,
   "id": "f2ea12ca-93bd-45f5-a240-1d341ce9e853",
   "metadata": {},
   "outputs": [],
   "source": [
    "df['wage'] = df['wage'].map({' >50K':1, ' <=50K':0})\n",
    "df['native-country'] = df['native-country'].map(lambda x: 1 if x ==' United-States' else 0)\n",
    "df['sex'] = df['sex'].map({' Male':1, ' Female':0})\n",
    "# wage 1: >50k\n",
    "# wage 0: <=50k\n",
    "\n",
    "# native 1 : US\n",
    "# native 0 : non US\n",
    "\n",
    "# sex 1: Male\n",
    "# sex 0: Female"
   ]
  },
  {
   "cell_type": "code",
   "execution_count": 16,
   "id": "d2a3bc01-1e23-46eb-a30e-162e9e462397",
   "metadata": {},
   "outputs": [
    {
     "data": {
      "text/html": [
       "<div>\n",
       "<style scoped>\n",
       "    .dataframe tbody tr th:only-of-type {\n",
       "        vertical-align: middle;\n",
       "    }\n",
       "\n",
       "    .dataframe tbody tr th {\n",
       "        vertical-align: top;\n",
       "    }\n",
       "\n",
       "    .dataframe thead th {\n",
       "        text-align: right;\n",
       "    }\n",
       "</style>\n",
       "<table border=\"1\" class=\"dataframe\">\n",
       "  <thead>\n",
       "    <tr style=\"text-align: right;\">\n",
       "      <th></th>\n",
       "      <th>age</th>\n",
       "      <th>workclass</th>\n",
       "      <th>fnlwgt</th>\n",
       "      <th>education</th>\n",
       "      <th>education-num</th>\n",
       "      <th>marital-status</th>\n",
       "      <th>occupation</th>\n",
       "      <th>relationship</th>\n",
       "      <th>sex</th>\n",
       "      <th>capital-gain</th>\n",
       "      <th>capital-loss</th>\n",
       "      <th>hours-per-week</th>\n",
       "      <th>native-country</th>\n",
       "      <th>wage</th>\n",
       "    </tr>\n",
       "  </thead>\n",
       "  <tbody>\n",
       "    <tr>\n",
       "      <th>0</th>\n",
       "      <td>56</td>\n",
       "      <td>Private</td>\n",
       "      <td>346033</td>\n",
       "      <td>9th</td>\n",
       "      <td>5</td>\n",
       "      <td>Divorced</td>\n",
       "      <td>Adm-clerical</td>\n",
       "      <td>Not-in-family</td>\n",
       "      <td>1</td>\n",
       "      <td>0</td>\n",
       "      <td>0</td>\n",
       "      <td>40</td>\n",
       "      <td>1</td>\n",
       "      <td>0</td>\n",
       "    </tr>\n",
       "    <tr>\n",
       "      <th>1</th>\n",
       "      <td>28</td>\n",
       "      <td>Private</td>\n",
       "      <td>96226</td>\n",
       "      <td>HS-grad</td>\n",
       "      <td>9</td>\n",
       "      <td>Married-civ-spouse</td>\n",
       "      <td>Craft-repair</td>\n",
       "      <td>Husband</td>\n",
       "      <td>1</td>\n",
       "      <td>0</td>\n",
       "      <td>0</td>\n",
       "      <td>45</td>\n",
       "      <td>1</td>\n",
       "      <td>0</td>\n",
       "    </tr>\n",
       "    <tr>\n",
       "      <th>2</th>\n",
       "      <td>33</td>\n",
       "      <td>Private</td>\n",
       "      <td>251120</td>\n",
       "      <td>Bachelors</td>\n",
       "      <td>13</td>\n",
       "      <td>Married-civ-spouse</td>\n",
       "      <td>Sales</td>\n",
       "      <td>Husband</td>\n",
       "      <td>1</td>\n",
       "      <td>7688</td>\n",
       "      <td>0</td>\n",
       "      <td>50</td>\n",
       "      <td>1</td>\n",
       "      <td>1</td>\n",
       "    </tr>\n",
       "    <tr>\n",
       "      <th>3</th>\n",
       "      <td>26</td>\n",
       "      <td>Private</td>\n",
       "      <td>178140</td>\n",
       "      <td>Bachelors</td>\n",
       "      <td>13</td>\n",
       "      <td>Married-civ-spouse</td>\n",
       "      <td>Other-service</td>\n",
       "      <td>Husband</td>\n",
       "      <td>1</td>\n",
       "      <td>0</td>\n",
       "      <td>0</td>\n",
       "      <td>45</td>\n",
       "      <td>1</td>\n",
       "      <td>1</td>\n",
       "    </tr>\n",
       "    <tr>\n",
       "      <th>4</th>\n",
       "      <td>40</td>\n",
       "      <td>Federal-gov</td>\n",
       "      <td>56795</td>\n",
       "      <td>Masters</td>\n",
       "      <td>14</td>\n",
       "      <td>Never-married</td>\n",
       "      <td>Exec-managerial</td>\n",
       "      <td>Not-in-family</td>\n",
       "      <td>0</td>\n",
       "      <td>14084</td>\n",
       "      <td>0</td>\n",
       "      <td>55</td>\n",
       "      <td>1</td>\n",
       "      <td>1</td>\n",
       "    </tr>\n",
       "  </tbody>\n",
       "</table>\n",
       "</div>"
      ],
      "text/plain": [
       "   age     workclass  fnlwgt   education  education-num       marital-status  \\\n",
       "0   56       Private  346033         9th              5             Divorced   \n",
       "1   28       Private   96226     HS-grad              9   Married-civ-spouse   \n",
       "2   33       Private  251120   Bachelors             13   Married-civ-spouse   \n",
       "3   26       Private  178140   Bachelors             13   Married-civ-spouse   \n",
       "4   40   Federal-gov   56795     Masters             14        Never-married   \n",
       "\n",
       "         occupation    relationship  sex  capital-gain  capital-loss  \\\n",
       "0      Adm-clerical   Not-in-family    1             0             0   \n",
       "1      Craft-repair         Husband    1             0             0   \n",
       "2             Sales         Husband    1          7688             0   \n",
       "3     Other-service         Husband    1             0             0   \n",
       "4   Exec-managerial   Not-in-family    0         14084             0   \n",
       "\n",
       "   hours-per-week  native-country  wage  \n",
       "0              40               1     0  \n",
       "1              45               1     0  \n",
       "2              50               1     1  \n",
       "3              45               1     1  \n",
       "4              55               1     1  "
      ]
     },
     "execution_count": 16,
     "metadata": {},
     "output_type": "execute_result"
    }
   ],
   "source": [
    "df.head()"
   ]
  },
  {
   "cell_type": "code",
   "execution_count": 17,
   "id": "905fbf6f-9604-42b4-98f6-0ded0107d387",
   "metadata": {},
   "outputs": [
    {
     "data": {
      "text/plain": [
       "(6513, 14)"
      ]
     },
     "execution_count": 17,
     "metadata": {},
     "output_type": "execute_result"
    }
   ],
   "source": [
    "df.shape"
   ]
  },
  {
   "cell_type": "code",
   "execution_count": 18,
   "id": "a86f21e5-8b8f-4d9c-afc5-fff9ddfbd505",
   "metadata": {},
   "outputs": [
    {
     "data": {
      "text/plain": [
       "1   89.16\n",
       "0   10.84\n",
       "Name: native-country, dtype: float64"
      ]
     },
     "execution_count": 18,
     "metadata": {},
     "output_type": "execute_result"
    }
   ],
   "source": [
    "df['native-country'].value_counts(normalize=True).mul(100).round(2)"
   ]
  },
  {
   "cell_type": "code",
   "execution_count": 19,
   "id": "c1e01d2e-b594-44f6-ac9a-fd71fde4332c",
   "metadata": {},
   "outputs": [
    {
     "data": {
      "text/plain": [
       "age                int64\n",
       "workclass         object\n",
       "fnlwgt             int64\n",
       "education         object\n",
       "education-num      int64\n",
       "marital-status    object\n",
       "occupation        object\n",
       "relationship      object\n",
       "sex                int64\n",
       "capital-gain       int64\n",
       "capital-loss       int64\n",
       "hours-per-week     int64\n",
       "native-country     int64\n",
       "wage               int64\n",
       "dtype: object"
      ]
     },
     "execution_count": 19,
     "metadata": {},
     "output_type": "execute_result"
    }
   ],
   "source": [
    "df.dtypes"
   ]
  },
  {
   "cell_type": "code",
   "execution_count": 20,
   "id": "0f81aeee-31d6-4b1c-9364-42f3d04ab962",
   "metadata": {},
   "outputs": [],
   "source": [
    "X = df.drop(columns=['wage'])\n",
    "X = pd.get_dummies(X,drop_first=True)\n",
    "y = df['wage']"
   ]
  },
  {
   "cell_type": "code",
   "execution_count": 21,
   "id": "9c6c805a-e591-452c-b267-a5b1d0d4b03e",
   "metadata": {},
   "outputs": [],
   "source": [
    "X_train, X_test, y_train, y_test = train_test_split(X, y, random_state=42)"
   ]
  },
  {
   "cell_type": "code",
   "execution_count": 22,
   "id": "1a1720b2-a689-49ca-8faf-b78f5b54c315",
   "metadata": {},
   "outputs": [
    {
     "data": {
      "text/plain": [
       "0   75.90\n",
       "1   24.10\n",
       "Name: wage, dtype: float64"
      ]
     },
     "execution_count": 22,
     "metadata": {},
     "output_type": "execute_result"
    }
   ],
   "source": [
    "y_train.value_counts(normalize=True).mul(100).round(2)"
   ]
  },
  {
   "cell_type": "code",
   "execution_count": 23,
   "id": "05902869-d694-47b1-85fa-6768493fecd5",
   "metadata": {},
   "outputs": [
    {
     "data": {
      "text/plain": [
       "0   76.00\n",
       "1   24.00\n",
       "Name: wage, dtype: float64"
      ]
     },
     "execution_count": 23,
     "metadata": {},
     "output_type": "execute_result"
    }
   ],
   "source": [
    "y_test.value_counts(normalize=True).mul(100).round(2)"
   ]
  },
  {
   "cell_type": "markdown",
   "id": "2334d9db-b740-48fc-983a-77652bc17216",
   "metadata": {},
   "source": [
    "### Random Forest without tuning"
   ]
  },
  {
   "cell_type": "code",
   "execution_count": 24,
   "id": "73e4fc00-7b5f-44ef-a9dd-3d01fff20740",
   "metadata": {},
   "outputs": [],
   "source": [
    "rfc = RandomForestClassifier(random_state=42)\n",
    "rfc.fit(X_train, y_train)\n",
    "y_preds = rfc.predict(X_test)"
   ]
  },
  {
   "cell_type": "code",
   "execution_count": 25,
   "id": "73f8f32b-d3a3-4b3a-9052-88f1bfb5e8ea",
   "metadata": {},
   "outputs": [],
   "source": [
    "def classifier_metric(model, X_train , y_train, y_test, y_preds):\n",
    "    training_acc = accuracy_score(y_train, model.predict(X_train))\n",
    "    testing_acc = accuracy_score(y_test, y_preds)\n",
    "    f1 = f1_score(y_test, y_preds,average='macro')\n",
    "    print(f\"Training accuracy: {training_acc}\")\n",
    "    print(f\"Test accuracy: {testing_acc}\")\n",
    "    print(f\"F1 score: {f1}\")"
   ]
  },
  {
   "cell_type": "code",
   "execution_count": 26,
   "id": "1bdbf633-db8d-4ce6-a374-ea91d2c992fa",
   "metadata": {},
   "outputs": [
    {
     "name": "stdout",
     "output_type": "stream",
     "text": [
      "Training accuracy: 1.0\n",
      "Test accuracy: 0.8348680171884592\n",
      "F1 score: 0.7560352194815064\n"
     ]
    }
   ],
   "source": [
    "classifier_metric(rfc, X_train, y_train, y_test, y_preds)"
   ]
  },
  {
   "cell_type": "markdown",
   "id": "c2c2cb99-fda3-4607-9b85-e037c571e4b5",
   "metadata": {},
   "source": [
    "### Random Forest tuning"
   ]
  },
  {
   "cell_type": "code",
   "execution_count": 27,
   "id": "1a4fa904-3faf-45bc-9ed8-c566deca85be",
   "metadata": {},
   "outputs": [
    {
     "name": "stdout",
     "output_type": "stream",
     "text": [
      "Max_dept: 10, n_estimator: 100\n",
      "Training accuracy: 0.8814496314496314\n",
      "Test accuracy: 0.8453038674033149\n",
      "F1 score: 0.7583985046306542\n",
      "\n",
      "\n",
      "Max_dept: 12, n_estimator: 100\n",
      "Training accuracy: 0.8966011466011466\n",
      "Test accuracy: 0.848987108655617\n",
      "F1 score: 0.7683779159827064\n",
      "\n",
      "\n",
      "Max_dept: 14, n_estimator: 100\n",
      "Training accuracy: 0.9191236691236692\n",
      "Test accuracy: 0.8422344996930632\n",
      "F1 score: 0.7572104190286746\n",
      "\n",
      "\n",
      "Max_dept: 15, n_estimator: 100\n",
      "Training accuracy: 0.9295659295659295\n",
      "Test accuracy: 0.8483732351135667\n",
      "F1 score: 0.7671775844999152\n",
      "\n",
      "\n",
      "Max_dept: 10, n_estimator: 150\n",
      "Training accuracy: 0.883087633087633\n",
      "Test accuracy: 0.8453038674033149\n",
      "F1 score: 0.7583985046306542\n",
      "\n",
      "\n",
      "Max_dept: 12, n_estimator: 150\n",
      "Training accuracy: 0.8976248976248976\n",
      "Test accuracy: 0.8459177409453652\n",
      "F1 score: 0.7623466638767558\n",
      "\n",
      "\n",
      "Max_dept: 14, n_estimator: 150\n",
      "Training accuracy: 0.923013923013923\n",
      "Test accuracy: 0.8434622467771639\n",
      "F1 score: 0.7601702269172612\n",
      "\n",
      "\n",
      "Max_dept: 15, n_estimator: 150\n",
      "Training accuracy: 0.9318181818181818\n",
      "Test accuracy: 0.8465316144874155\n",
      "F1 score: 0.7646117032344577\n",
      "\n",
      "\n",
      "Max_dept: 10, n_estimator: 200\n",
      "Training accuracy: 0.8822686322686323\n",
      "Test accuracy: 0.8465316144874155\n",
      "F1 score: 0.759762859839547\n",
      "\n",
      "\n",
      "Max_dept: 12, n_estimator: 200\n",
      "Training accuracy: 0.8982391482391482\n",
      "Test accuracy: 0.8459177409453652\n",
      "F1 score: 0.7612721363008184\n",
      "\n",
      "\n",
      "Max_dept: 14, n_estimator: 200\n",
      "Training accuracy: 0.9217854217854218\n",
      "Test accuracy: 0.8471454880294659\n",
      "F1 score: 0.7647680713546303\n",
      "\n",
      "\n",
      "Max_dept: 15, n_estimator: 200\n",
      "Training accuracy: 0.9328419328419328\n",
      "Test accuracy: 0.8471454880294659\n",
      "F1 score: 0.7663307941749329\n",
      "\n",
      "\n",
      "Max_dept: 10, n_estimator: 300\n",
      "Training accuracy: 0.8839066339066339\n",
      "Test accuracy: 0.8459177409453652\n",
      "F1 score: 0.7596335237042676\n",
      "\n",
      "\n",
      "Max_dept: 12, n_estimator: 300\n",
      "Training accuracy: 0.8978296478296478\n",
      "Test accuracy: 0.8446899938612645\n",
      "F1 score: 0.7593699222474386\n",
      "\n",
      "\n",
      "Max_dept: 14, n_estimator: 300\n",
      "Training accuracy: 0.9238329238329238\n",
      "Test accuracy: 0.8465316144874155\n",
      "F1 score: 0.764087003670337\n",
      "\n",
      "\n",
      "Max_dept: 15, n_estimator: 300\n",
      "Training accuracy: 0.9342751842751843\n",
      "Test accuracy: 0.8453038674033149\n",
      "F1 score: 0.763776102088167\n",
      "\n",
      "\n"
     ]
    }
   ],
   "source": [
    "for i in [100, 150, 200, 300]:\n",
    "    for k in [10, 12, 14, 15]:\n",
    "        rfc = RandomForestClassifier(max_depth=k,n_estimators=i, random_state=42)\n",
    "        rfc.fit(X_train, y_train)\n",
    "        y_preds = rfc.predict(X_test)\n",
    "        print(f\"Max_dept: {k}, n_estimator: {i}\")\n",
    "        classifier_metric(rfc, X_train, y_train, y_test, y_preds)\n",
    "        print(f\"\\n\")"
   ]
  },
  {
   "cell_type": "code",
   "execution_count": 28,
   "id": "a5b41455-4dff-4cb0-af9c-c2ee6fca6b96",
   "metadata": {},
   "outputs": [
    {
     "name": "stdout",
     "output_type": "stream",
     "text": [
      "Training accuracy: 0.8945536445536445\n",
      "Test accuracy: 0.8317986494782075\n",
      "F1 score: 0.7604566043406392\n"
     ]
    }
   ],
   "source": [
    "dtc = DecisionTreeClassifier(max_depth=10, random_state=42)\n",
    "dtc.fit(X_train, y_train)\n",
    "y_preds = dtc.predict(X_test)\n",
    "classifier_metric(dtc, X_train, y_train, y_test, y_preds)"
   ]
  },
  {
   "cell_type": "code",
   "execution_count": 29,
   "id": "8551adc1-1a08-4310-822c-abded9f38efe",
   "metadata": {},
   "outputs": [],
   "source": [
    "class_0 = df[df['wage'] ==0]"
   ]
  },
  {
   "cell_type": "code",
   "execution_count": 30,
   "id": "8fc34c65-9d0f-4c98-8f38-17991ad1a60f",
   "metadata": {},
   "outputs": [
    {
     "data": {
      "text/plain": [
       "(1568, 14)"
      ]
     },
     "execution_count": 30,
     "metadata": {},
     "output_type": "execute_result"
    }
   ],
   "source": [
    "class_1 = df[df['wage'] ==1]\n",
    "class_1.shape"
   ]
  },
  {
   "cell_type": "code",
   "execution_count": 31,
   "id": "5b735097-052c-4884-b9a9-2ec90cb80bc8",
   "metadata": {},
   "outputs": [
    {
     "data": {
      "text/html": [
       "<div>\n",
       "<style scoped>\n",
       "    .dataframe tbody tr th:only-of-type {\n",
       "        vertical-align: middle;\n",
       "    }\n",
       "\n",
       "    .dataframe tbody tr th {\n",
       "        vertical-align: top;\n",
       "    }\n",
       "\n",
       "    .dataframe thead th {\n",
       "        text-align: right;\n",
       "    }\n",
       "</style>\n",
       "<table border=\"1\" class=\"dataframe\">\n",
       "  <thead>\n",
       "    <tr style=\"text-align: right;\">\n",
       "      <th></th>\n",
       "      <th>age</th>\n",
       "      <th>workclass</th>\n",
       "      <th>fnlwgt</th>\n",
       "      <th>education</th>\n",
       "      <th>education-num</th>\n",
       "      <th>marital-status</th>\n",
       "      <th>occupation</th>\n",
       "      <th>relationship</th>\n",
       "      <th>sex</th>\n",
       "      <th>capital-gain</th>\n",
       "      <th>capital-loss</th>\n",
       "      <th>hours-per-week</th>\n",
       "      <th>native-country</th>\n",
       "      <th>wage</th>\n",
       "    </tr>\n",
       "  </thead>\n",
       "  <tbody>\n",
       "    <tr>\n",
       "      <th>0</th>\n",
       "      <td>56</td>\n",
       "      <td>Private</td>\n",
       "      <td>346033</td>\n",
       "      <td>9th</td>\n",
       "      <td>5</td>\n",
       "      <td>Divorced</td>\n",
       "      <td>Adm-clerical</td>\n",
       "      <td>Not-in-family</td>\n",
       "      <td>1</td>\n",
       "      <td>0</td>\n",
       "      <td>0</td>\n",
       "      <td>40</td>\n",
       "      <td>1</td>\n",
       "      <td>0</td>\n",
       "    </tr>\n",
       "    <tr>\n",
       "      <th>1</th>\n",
       "      <td>28</td>\n",
       "      <td>Private</td>\n",
       "      <td>96226</td>\n",
       "      <td>HS-grad</td>\n",
       "      <td>9</td>\n",
       "      <td>Married-civ-spouse</td>\n",
       "      <td>Craft-repair</td>\n",
       "      <td>Husband</td>\n",
       "      <td>1</td>\n",
       "      <td>0</td>\n",
       "      <td>0</td>\n",
       "      <td>45</td>\n",
       "      <td>1</td>\n",
       "      <td>0</td>\n",
       "    </tr>\n",
       "    <tr>\n",
       "      <th>2</th>\n",
       "      <td>33</td>\n",
       "      <td>Private</td>\n",
       "      <td>251120</td>\n",
       "      <td>Bachelors</td>\n",
       "      <td>13</td>\n",
       "      <td>Married-civ-spouse</td>\n",
       "      <td>Sales</td>\n",
       "      <td>Husband</td>\n",
       "      <td>1</td>\n",
       "      <td>7688</td>\n",
       "      <td>0</td>\n",
       "      <td>50</td>\n",
       "      <td>1</td>\n",
       "      <td>1</td>\n",
       "    </tr>\n",
       "    <tr>\n",
       "      <th>3</th>\n",
       "      <td>26</td>\n",
       "      <td>Private</td>\n",
       "      <td>178140</td>\n",
       "      <td>Bachelors</td>\n",
       "      <td>13</td>\n",
       "      <td>Married-civ-spouse</td>\n",
       "      <td>Other-service</td>\n",
       "      <td>Husband</td>\n",
       "      <td>1</td>\n",
       "      <td>0</td>\n",
       "      <td>0</td>\n",
       "      <td>45</td>\n",
       "      <td>1</td>\n",
       "      <td>1</td>\n",
       "    </tr>\n",
       "    <tr>\n",
       "      <th>4</th>\n",
       "      <td>40</td>\n",
       "      <td>Federal-gov</td>\n",
       "      <td>56795</td>\n",
       "      <td>Masters</td>\n",
       "      <td>14</td>\n",
       "      <td>Never-married</td>\n",
       "      <td>Exec-managerial</td>\n",
       "      <td>Not-in-family</td>\n",
       "      <td>0</td>\n",
       "      <td>14084</td>\n",
       "      <td>0</td>\n",
       "      <td>55</td>\n",
       "      <td>1</td>\n",
       "      <td>1</td>\n",
       "    </tr>\n",
       "  </tbody>\n",
       "</table>\n",
       "</div>"
      ],
      "text/plain": [
       "   age     workclass  fnlwgt   education  education-num       marital-status  \\\n",
       "0   56       Private  346033         9th              5             Divorced   \n",
       "1   28       Private   96226     HS-grad              9   Married-civ-spouse   \n",
       "2   33       Private  251120   Bachelors             13   Married-civ-spouse   \n",
       "3   26       Private  178140   Bachelors             13   Married-civ-spouse   \n",
       "4   40   Federal-gov   56795     Masters             14        Never-married   \n",
       "\n",
       "         occupation    relationship  sex  capital-gain  capital-loss  \\\n",
       "0      Adm-clerical   Not-in-family    1             0             0   \n",
       "1      Craft-repair         Husband    1             0             0   \n",
       "2             Sales         Husband    1          7688             0   \n",
       "3     Other-service         Husband    1             0             0   \n",
       "4   Exec-managerial   Not-in-family    0         14084             0   \n",
       "\n",
       "   hours-per-week  native-country  wage  \n",
       "0              40               1     0  \n",
       "1              45               1     0  \n",
       "2              50               1     1  \n",
       "3              45               1     1  \n",
       "4              55               1     1  "
      ]
     },
     "execution_count": 31,
     "metadata": {},
     "output_type": "execute_result"
    }
   ],
   "source": [
    "df.head()"
   ]
  },
  {
   "cell_type": "code",
   "execution_count": 32,
   "id": "58e7ae84-f741-477b-8c0c-b6651e91f350",
   "metadata": {},
   "outputs": [
    {
     "data": {
      "text/plain": [
       "(2000, 14)"
      ]
     },
     "execution_count": 32,
     "metadata": {},
     "output_type": "execute_result"
    }
   ],
   "source": [
    "class_0_sample = class_0.sample(2_000, random_state=42)\n",
    "class_0_sample.shape"
   ]
  },
  {
   "cell_type": "code",
   "execution_count": 33,
   "id": "64830333-8648-419e-88c6-bc8723f78185",
   "metadata": {},
   "outputs": [
    {
     "data": {
      "text/plain": [
       "(3568, 14)"
      ]
     },
     "execution_count": 33,
     "metadata": {},
     "output_type": "execute_result"
    }
   ],
   "source": [
    "df_new = pd.concat([class_0_sample,class_1])\n",
    "df_new.shape"
   ]
  },
  {
   "cell_type": "code",
   "execution_count": 34,
   "id": "e1aba388-e688-40fa-aa8a-4361a9b54bb3",
   "metadata": {},
   "outputs": [
    {
     "data": {
      "text/html": [
       "<div>\n",
       "<style scoped>\n",
       "    .dataframe tbody tr th:only-of-type {\n",
       "        vertical-align: middle;\n",
       "    }\n",
       "\n",
       "    .dataframe tbody tr th {\n",
       "        vertical-align: top;\n",
       "    }\n",
       "\n",
       "    .dataframe thead th {\n",
       "        text-align: right;\n",
       "    }\n",
       "</style>\n",
       "<table border=\"1\" class=\"dataframe\">\n",
       "  <thead>\n",
       "    <tr style=\"text-align: right;\">\n",
       "      <th></th>\n",
       "      <th>age</th>\n",
       "      <th>workclass</th>\n",
       "      <th>fnlwgt</th>\n",
       "      <th>education</th>\n",
       "      <th>education-num</th>\n",
       "      <th>marital-status</th>\n",
       "      <th>occupation</th>\n",
       "      <th>relationship</th>\n",
       "      <th>sex</th>\n",
       "      <th>capital-gain</th>\n",
       "      <th>capital-loss</th>\n",
       "      <th>hours-per-week</th>\n",
       "      <th>native-country</th>\n",
       "      <th>wage</th>\n",
       "    </tr>\n",
       "  </thead>\n",
       "  <tbody>\n",
       "    <tr>\n",
       "      <th>4874</th>\n",
       "      <td>46</td>\n",
       "      <td>Self-emp-not-inc</td>\n",
       "      <td>51271</td>\n",
       "      <td>HS-grad</td>\n",
       "      <td>9</td>\n",
       "      <td>Married-civ-spouse</td>\n",
       "      <td>Farming-fishing</td>\n",
       "      <td>Husband</td>\n",
       "      <td>1</td>\n",
       "      <td>4386</td>\n",
       "      <td>0</td>\n",
       "      <td>70</td>\n",
       "      <td>1</td>\n",
       "      <td>0</td>\n",
       "    </tr>\n",
       "    <tr>\n",
       "      <th>2450</th>\n",
       "      <td>24</td>\n",
       "      <td>Private</td>\n",
       "      <td>103277</td>\n",
       "      <td>HS-grad</td>\n",
       "      <td>9</td>\n",
       "      <td>Never-married</td>\n",
       "      <td>Adm-clerical</td>\n",
       "      <td>Not-in-family</td>\n",
       "      <td>0</td>\n",
       "      <td>2597</td>\n",
       "      <td>0</td>\n",
       "      <td>40</td>\n",
       "      <td>1</td>\n",
       "      <td>0</td>\n",
       "    </tr>\n",
       "    <tr>\n",
       "      <th>3489</th>\n",
       "      <td>22</td>\n",
       "      <td>Private</td>\n",
       "      <td>190968</td>\n",
       "      <td>Some-college</td>\n",
       "      <td>10</td>\n",
       "      <td>Married-civ-spouse</td>\n",
       "      <td>Craft-repair</td>\n",
       "      <td>Husband</td>\n",
       "      <td>1</td>\n",
       "      <td>2407</td>\n",
       "      <td>0</td>\n",
       "      <td>40</td>\n",
       "      <td>1</td>\n",
       "      <td>0</td>\n",
       "    </tr>\n",
       "    <tr>\n",
       "      <th>251</th>\n",
       "      <td>24</td>\n",
       "      <td>Private</td>\n",
       "      <td>196816</td>\n",
       "      <td>Bachelors</td>\n",
       "      <td>13</td>\n",
       "      <td>Married-civ-spouse</td>\n",
       "      <td>Prof-specialty</td>\n",
       "      <td>Husband</td>\n",
       "      <td>1</td>\n",
       "      <td>3908</td>\n",
       "      <td>0</td>\n",
       "      <td>40</td>\n",
       "      <td>1</td>\n",
       "      <td>0</td>\n",
       "    </tr>\n",
       "    <tr>\n",
       "      <th>2691</th>\n",
       "      <td>65</td>\n",
       "      <td>Private</td>\n",
       "      <td>113323</td>\n",
       "      <td>Assoc-acdm</td>\n",
       "      <td>12</td>\n",
       "      <td>Married-civ-spouse</td>\n",
       "      <td>Exec-managerial</td>\n",
       "      <td>Husband</td>\n",
       "      <td>1</td>\n",
       "      <td>3818</td>\n",
       "      <td>0</td>\n",
       "      <td>40</td>\n",
       "      <td>1</td>\n",
       "      <td>0</td>\n",
       "    </tr>\n",
       "    <tr>\n",
       "      <th>...</th>\n",
       "      <td>...</td>\n",
       "      <td>...</td>\n",
       "      <td>...</td>\n",
       "      <td>...</td>\n",
       "      <td>...</td>\n",
       "      <td>...</td>\n",
       "      <td>...</td>\n",
       "      <td>...</td>\n",
       "      <td>...</td>\n",
       "      <td>...</td>\n",
       "      <td>...</td>\n",
       "      <td>...</td>\n",
       "      <td>...</td>\n",
       "      <td>...</td>\n",
       "    </tr>\n",
       "    <tr>\n",
       "      <th>6462</th>\n",
       "      <td>62</td>\n",
       "      <td>Private</td>\n",
       "      <td>122246</td>\n",
       "      <td>Some-college</td>\n",
       "      <td>10</td>\n",
       "      <td>Never-married</td>\n",
       "      <td>Craft-repair</td>\n",
       "      <td>Not-in-family</td>\n",
       "      <td>0</td>\n",
       "      <td>8614</td>\n",
       "      <td>0</td>\n",
       "      <td>39</td>\n",
       "      <td>1</td>\n",
       "      <td>1</td>\n",
       "    </tr>\n",
       "    <tr>\n",
       "      <th>6478</th>\n",
       "      <td>61</td>\n",
       "      <td>Private</td>\n",
       "      <td>85548</td>\n",
       "      <td>Some-college</td>\n",
       "      <td>10</td>\n",
       "      <td>Married-civ-spouse</td>\n",
       "      <td>Tech-support</td>\n",
       "      <td>Husband</td>\n",
       "      <td>1</td>\n",
       "      <td>15024</td>\n",
       "      <td>0</td>\n",
       "      <td>18</td>\n",
       "      <td>1</td>\n",
       "      <td>1</td>\n",
       "    </tr>\n",
       "    <tr>\n",
       "      <th>6487</th>\n",
       "      <td>54</td>\n",
       "      <td>Private</td>\n",
       "      <td>154728</td>\n",
       "      <td>Assoc-voc</td>\n",
       "      <td>11</td>\n",
       "      <td>Married-civ-spouse</td>\n",
       "      <td>Tech-support</td>\n",
       "      <td>Husband</td>\n",
       "      <td>1</td>\n",
       "      <td>7688</td>\n",
       "      <td>0</td>\n",
       "      <td>40</td>\n",
       "      <td>1</td>\n",
       "      <td>1</td>\n",
       "    </tr>\n",
       "    <tr>\n",
       "      <th>6506</th>\n",
       "      <td>28</td>\n",
       "      <td>Private</td>\n",
       "      <td>37359</td>\n",
       "      <td>Assoc-voc</td>\n",
       "      <td>11</td>\n",
       "      <td>Married-civ-spouse</td>\n",
       "      <td>Prof-specialty</td>\n",
       "      <td>Husband</td>\n",
       "      <td>1</td>\n",
       "      <td>99999</td>\n",
       "      <td>0</td>\n",
       "      <td>50</td>\n",
       "      <td>1</td>\n",
       "      <td>1</td>\n",
       "    </tr>\n",
       "    <tr>\n",
       "      <th>6510</th>\n",
       "      <td>31</td>\n",
       "      <td>Local-gov</td>\n",
       "      <td>381153</td>\n",
       "      <td>Some-college</td>\n",
       "      <td>10</td>\n",
       "      <td>Married-civ-spouse</td>\n",
       "      <td>Protective-serv</td>\n",
       "      <td>Husband</td>\n",
       "      <td>1</td>\n",
       "      <td>15024</td>\n",
       "      <td>0</td>\n",
       "      <td>56</td>\n",
       "      <td>1</td>\n",
       "      <td>1</td>\n",
       "    </tr>\n",
       "  </tbody>\n",
       "</table>\n",
       "<p>416 rows × 14 columns</p>\n",
       "</div>"
      ],
      "text/plain": [
       "      age          workclass  fnlwgt      education  education-num  \\\n",
       "4874   46   Self-emp-not-inc   51271        HS-grad              9   \n",
       "2450   24            Private  103277        HS-grad              9   \n",
       "3489   22            Private  190968   Some-college             10   \n",
       "251    24            Private  196816      Bachelors             13   \n",
       "2691   65            Private  113323     Assoc-acdm             12   \n",
       "...   ...                ...     ...            ...            ...   \n",
       "6462   62            Private  122246   Some-college             10   \n",
       "6478   61            Private   85548   Some-college             10   \n",
       "6487   54            Private  154728      Assoc-voc             11   \n",
       "6506   28            Private   37359      Assoc-voc             11   \n",
       "6510   31          Local-gov  381153   Some-college             10   \n",
       "\n",
       "           marital-status        occupation    relationship  sex  \\\n",
       "4874   Married-civ-spouse   Farming-fishing         Husband    1   \n",
       "2450        Never-married      Adm-clerical   Not-in-family    0   \n",
       "3489   Married-civ-spouse      Craft-repair         Husband    1   \n",
       "251    Married-civ-spouse    Prof-specialty         Husband    1   \n",
       "2691   Married-civ-spouse   Exec-managerial         Husband    1   \n",
       "...                   ...               ...             ...  ...   \n",
       "6462        Never-married      Craft-repair   Not-in-family    0   \n",
       "6478   Married-civ-spouse      Tech-support         Husband    1   \n",
       "6487   Married-civ-spouse      Tech-support         Husband    1   \n",
       "6506   Married-civ-spouse    Prof-specialty         Husband    1   \n",
       "6510   Married-civ-spouse   Protective-serv         Husband    1   \n",
       "\n",
       "      capital-gain  capital-loss  hours-per-week  native-country  wage  \n",
       "4874          4386             0              70               1     0  \n",
       "2450          2597             0              40               1     0  \n",
       "3489          2407             0              40               1     0  \n",
       "251           3908             0              40               1     0  \n",
       "2691          3818             0              40               1     0  \n",
       "...            ...           ...             ...             ...   ...  \n",
       "6462          8614             0              39               1     1  \n",
       "6478         15024             0              18               1     1  \n",
       "6487          7688             0              40               1     1  \n",
       "6506         99999             0              50               1     1  \n",
       "6510         15024             0              56               1     1  \n",
       "\n",
       "[416 rows x 14 columns]"
      ]
     },
     "execution_count": 34,
     "metadata": {},
     "output_type": "execute_result"
    }
   ],
   "source": [
    "df_new[(df_new['capital-gain'] != 0)]"
   ]
  },
  {
   "cell_type": "code",
   "execution_count": 35,
   "id": "e9e6c459-7615-451a-942b-e83c1d7bb214",
   "metadata": {},
   "outputs": [],
   "source": [
    "X = df_new.drop(columns=['wage'])\n",
    "X = pd.get_dummies(X, drop_first=True)\n",
    "y = df_new['wage']"
   ]
  },
  {
   "cell_type": "code",
   "execution_count": 36,
   "id": "2e5d28b2-c686-4209-8a71-bae3cdf0cc2a",
   "metadata": {},
   "outputs": [
    {
     "data": {
      "text/plain": [
       "Index(['age', 'fnlwgt', 'education-num', 'sex', 'capital-gain', 'capital-loss',\n",
       "       'hours-per-week', 'native-country', 'workclass_ Federal-gov',\n",
       "       'workclass_ Local-gov', 'workclass_ Private', 'workclass_ Self-emp-inc',\n",
       "       'workclass_ Self-emp-not-inc', 'workclass_ State-gov',\n",
       "       'education_ 11th', 'education_ 12th', 'education_ 1st-4th',\n",
       "       'education_ 5th-6th', 'education_ 7th-8th', 'education_ 9th',\n",
       "       'education_ Assoc-acdm', 'education_ Assoc-voc', 'education_ Bachelors',\n",
       "       'education_ Doctorate', 'education_ HS-grad', 'education_ Masters',\n",
       "       'education_ Preschool', 'education_ Prof-school',\n",
       "       'education_ Some-college', 'marital-status_ Married-AF-spouse',\n",
       "       'marital-status_ Married-civ-spouse',\n",
       "       'marital-status_ Married-spouse-absent',\n",
       "       'marital-status_ Never-married', 'marital-status_ Separated',\n",
       "       'marital-status_ Widowed', 'occupation_ Adm-clerical',\n",
       "       'occupation_ Armed-Forces', 'occupation_ Craft-repair',\n",
       "       'occupation_ Exec-managerial', 'occupation_ Farming-fishing',\n",
       "       'occupation_ Handlers-cleaners', 'occupation_ Machine-op-inspct',\n",
       "       'occupation_ Other-service', 'occupation_ Priv-house-serv',\n",
       "       'occupation_ Prof-specialty', 'occupation_ Protective-serv',\n",
       "       'occupation_ Sales', 'occupation_ Tech-support',\n",
       "       'occupation_ Transport-moving', 'relationship_ Not-in-family',\n",
       "       'relationship_ Other-relative', 'relationship_ Own-child',\n",
       "       'relationship_ Unmarried', 'relationship_ Wife'],\n",
       "      dtype='object')"
      ]
     },
     "execution_count": 36,
     "metadata": {},
     "output_type": "execute_result"
    }
   ],
   "source": [
    "X.columns"
   ]
  },
  {
   "cell_type": "code",
   "execution_count": 37,
   "id": "4378e5f9-bbda-4176-ac5c-385e5e26c046",
   "metadata": {},
   "outputs": [],
   "source": [
    "X_train, X_test, y_train, y_test = train_test_split(X, y, random_state=42)"
   ]
  },
  {
   "cell_type": "code",
   "execution_count": 38,
   "id": "36b904d4-d2d1-4d27-9520-d9d4dd3f8110",
   "metadata": {},
   "outputs": [
    {
     "name": "stdout",
     "output_type": "stream",
     "text": [
      "Max_dept: 15, n_estimator: 100\n",
      "Training accuracy: 0.9360986547085202\n",
      "Test accuracy: 0.8295964125560538\n",
      "F1 score: 0.8286583732250905\n",
      "\n",
      "\n",
      "Max_dept: 16, n_estimator: 100\n",
      "Training accuracy: 0.945440956651719\n",
      "Test accuracy: 0.8262331838565022\n",
      "F1 score: 0.8253055510279377\n",
      "\n",
      "\n",
      "Max_dept: 18, n_estimator: 100\n",
      "Training accuracy: 0.9697309417040358\n",
      "Test accuracy: 0.8374439461883408\n",
      "F1 score: 0.8361588147292389\n",
      "\n",
      "\n",
      "Max_dept: 15, n_estimator: 150\n",
      "Training accuracy: 0.9398355754857997\n",
      "Test accuracy: 0.8385650224215246\n",
      "F1 score: 0.8374462786071163\n",
      "\n",
      "\n",
      "Max_dept: 16, n_estimator: 150\n",
      "Training accuracy: 0.9476831091180867\n",
      "Test accuracy: 0.8340807174887892\n",
      "F1 score: 0.8331108414239481\n",
      "\n",
      "\n",
      "Max_dept: 18, n_estimator: 150\n",
      "Training accuracy: 0.9674887892376681\n",
      "Test accuracy: 0.8340807174887892\n",
      "F1 score: 0.832930897457314\n",
      "\n",
      "\n",
      "Max_dept: 15, n_estimator: 200\n",
      "Training accuracy: 0.9417040358744395\n",
      "Test accuracy: 0.8329596412556054\n",
      "F1 score: 0.8319541081523272\n",
      "\n",
      "\n",
      "Max_dept: 16, n_estimator: 200\n",
      "Training accuracy: 0.9510463378176383\n",
      "Test accuracy: 0.8307174887892377\n",
      "F1 score: 0.8295760658454959\n",
      "\n",
      "\n",
      "Max_dept: 18, n_estimator: 200\n",
      "Training accuracy: 0.9678624813153961\n",
      "Test accuracy: 0.8295964125560538\n",
      "F1 score: 0.8283503484038244\n",
      "\n",
      "\n",
      "Max_dept: 15, n_estimator: 300\n",
      "Training accuracy: 0.9409566517189836\n",
      "Test accuracy: 0.8340807174887892\n",
      "F1 score: 0.832930897457314\n",
      "\n",
      "\n",
      "Max_dept: 16, n_estimator: 300\n",
      "Training accuracy: 0.9521674140508222\n",
      "Test accuracy: 0.8408071748878924\n",
      "F1 score: 0.8397631818641837\n",
      "\n",
      "\n",
      "Max_dept: 18, n_estimator: 300\n",
      "Training accuracy: 0.9678624813153961\n",
      "Test accuracy: 0.8363228699551569\n",
      "F1 score: 0.8350616783606474\n",
      "\n",
      "\n"
     ]
    }
   ],
   "source": [
    "for i in [100, 150, 200, 300]:\n",
    "    for k in [15, 16, 18]:\n",
    "        rfc = RandomForestClassifier(max_depth=k,n_estimators=i, random_state=42)\n",
    "        rfc.fit(X_train, y_train)\n",
    "        y_preds = rfc.predict(X_test)\n",
    "        print(f\"Max_dept: {k}, n_estimator: {i}\")\n",
    "        classifier_metric(rfc, X_train, y_train, y_test, y_preds)\n",
    "        print(f\"\\n\")"
   ]
  },
  {
   "cell_type": "code",
   "execution_count": 39,
   "id": "10930e1b-f36e-45d4-89f0-773d9dc3edef",
   "metadata": {},
   "outputs": [],
   "source": [
    "# Oversampling\n",
    "class_0 = df[df['wage'] == 0]\n",
    "class_1 = df[df['wage'] == 1]\n",
    "class_1_sample = class_1.sample(3_300,replace=True, random_state=42) \n",
    "df_new = pd.concat([class_1_sample,class_0])\n",
    "df_new = pd.concat([df_new,class_1])\n",
    "X = df_new.drop(columns=['wage'])\n",
    "X = pd.get_dummies(X, drop_first=True)\n",
    "y = df_new['wage']\n",
    "X_train, X_test, y_train, y_test = train_test_split(X, y, random_state=42)"
   ]
  },
  {
   "cell_type": "markdown",
   "id": "8e4135ad-2c65-43e6-b2a9-933457a5b199",
   "metadata": {},
   "source": [
    "### Oversampling (Correctly)"
   ]
  },
  {
   "cell_type": "code",
   "execution_count": 40,
   "id": "0295d84c-fc36-4eeb-bb04-a9d6bc8b5e17",
   "metadata": {},
   "outputs": [],
   "source": [
    "X = df.drop(columns=['wage'])\n",
    "X = pd.get_dummies(X, drop_first=True)\n",
    "y = df['wage']\n",
    "X_train, X_test, y_train, y_test = train_test_split(X, y, random_state=42)"
   ]
  },
  {
   "cell_type": "code",
   "execution_count": 41,
   "id": "983fd05e-ccca-4b5c-b3d8-b0c3f43a03ae",
   "metadata": {},
   "outputs": [],
   "source": [
    "class_1_X = X_train[y_train==1]\n",
    "class_0_X = X_train[y_train==0]"
   ]
  },
  {
   "cell_type": "code",
   "execution_count": 42,
   "id": "083a220d-84e4-4309-9d5e-e9859c8f9d30",
   "metadata": {
    "tags": []
   },
   "outputs": [
    {
     "data": {
      "text/plain": [
       "(3000, 56)"
      ]
     },
     "execution_count": 42,
     "metadata": {},
     "output_type": "execute_result"
    }
   ],
   "source": [
    "class_1_sample_X = class_1_X.sample(3_000,replace=True, random_state=42)\n",
    "class_1_sample_X.shape"
   ]
  },
  {
   "cell_type": "code",
   "execution_count": 43,
   "id": "15a1a3cd-ead4-4f65-a539-a48cb1b03237",
   "metadata": {},
   "outputs": [],
   "source": [
    "y_sample = pd.Series([1 for i in range(3000)])"
   ]
  },
  {
   "cell_type": "code",
   "execution_count": 44,
   "id": "26a4ea06-1c7b-4a5c-bfc4-4c6c9df91e60",
   "metadata": {},
   "outputs": [],
   "source": [
    "X_train_new = pd.concat([X_train,class_1_sample_X])\n",
    "y_train_new = pd.concat([y_train,y_sample])"
   ]
  },
  {
   "cell_type": "code",
   "execution_count": 45,
   "id": "a0253a4b-db5e-4bdf-8a7b-c62ec67378f1",
   "metadata": {},
   "outputs": [
    {
     "name": "stdout",
     "output_type": "stream",
     "text": [
      "Max_dept: 7, n_estimator: 100\n",
      "Training accuracy: 0.8609746109746109\n",
      "Test accuracy: 0.8367096378146102\n",
      "F1 score: 0.7395348445795182\n",
      "\n",
      "\n",
      "Max_dept: 8, n_estimator: 100\n",
      "Training accuracy: 0.8683456183456183\n",
      "Test accuracy: 0.8379373848987108\n",
      "F1 score: 0.7457215836526181\n",
      "\n",
      "\n",
      "Max_dept: 9, n_estimator: 100\n",
      "Training accuracy: 0.8748976248976249\n",
      "Test accuracy: 0.8422344996930632\n",
      "F1 score: 0.7515980028302138\n",
      "\n",
      "\n",
      "Max_dept: 10, n_estimator: 100\n",
      "Training accuracy: 0.8814496314496314\n",
      "Test accuracy: 0.8453038674033149\n",
      "F1 score: 0.7583985046306542\n",
      "\n",
      "\n",
      "Max_dept: 7, n_estimator: 150\n",
      "Training accuracy: 0.8636363636363636\n",
      "Test accuracy: 0.8416206261510129\n",
      "F1 score: 0.747368383088405\n",
      "\n",
      "\n",
      "Max_dept: 8, n_estimator: 150\n",
      "Training accuracy: 0.8683456183456183\n",
      "Test accuracy: 0.8391651319828115\n",
      "F1 score: 0.7458737031638516\n",
      "\n",
      "\n",
      "Max_dept: 9, n_estimator: 150\n",
      "Training accuracy: 0.8765356265356266\n",
      "Test accuracy: 0.8446899938612645\n",
      "F1 score: 0.7554641817744907\n",
      "\n",
      "\n",
      "Max_dept: 10, n_estimator: 150\n",
      "Training accuracy: 0.883087633087633\n",
      "Test accuracy: 0.8453038674033149\n",
      "F1 score: 0.7583985046306542\n",
      "\n",
      "\n",
      "Max_dept: 7, n_estimator: 200\n",
      "Training accuracy: 0.861998361998362\n",
      "Test accuracy: 0.8391651319828115\n",
      "F1 score: 0.7415913879537914\n",
      "\n",
      "\n",
      "Max_dept: 8, n_estimator: 200\n",
      "Training accuracy: 0.8677313677313677\n",
      "Test accuracy: 0.8403928790669122\n",
      "F1 score: 0.7478135985595473\n",
      "\n",
      "\n",
      "Max_dept: 9, n_estimator: 200\n",
      "Training accuracy: 0.8755118755118755\n",
      "Test accuracy: 0.8440761203192142\n",
      "F1 score: 0.7542104862969106\n",
      "\n",
      "\n",
      "Max_dept: 10, n_estimator: 200\n",
      "Training accuracy: 0.8822686322686323\n",
      "Test accuracy: 0.8465316144874155\n",
      "F1 score: 0.759762859839547\n",
      "\n",
      "\n",
      "Max_dept: 7, n_estimator: 300\n",
      "Training accuracy: 0.8622031122031122\n",
      "Test accuracy: 0.8385512584407612\n",
      "F1 score: 0.7390194352478214\n",
      "\n",
      "\n",
      "Max_dept: 8, n_estimator: 300\n",
      "Training accuracy: 0.8685503685503686\n",
      "Test accuracy: 0.8422344996930632\n",
      "F1 score: 0.7498400098951863\n",
      "\n",
      "\n",
      "Max_dept: 9, n_estimator: 300\n",
      "Training accuracy: 0.8767403767403767\n",
      "Test accuracy: 0.8453038674033149\n",
      "F1 score: 0.7555731801423304\n",
      "\n",
      "\n",
      "Max_dept: 10, n_estimator: 300\n",
      "Training accuracy: 0.8839066339066339\n",
      "Test accuracy: 0.8459177409453652\n",
      "F1 score: 0.7596335237042676\n",
      "\n",
      "\n"
     ]
    }
   ],
   "source": [
    "# Tuning Random Forest\n",
    "for i in [100, 150, 200, 300]:\n",
    "    for k in [7, 8, 9, 10]:\n",
    "        rfc = RandomForestClassifier(max_depth=k,n_estimators=i, random_state=42)\n",
    "        rfc.fit(X_train, y_train)\n",
    "        y_preds = rfc.predict(X_test)\n",
    "        print(f\"Max_dept: {k}, n_estimator: {i}\")\n",
    "        classifier_metric(rfc, X_train, y_train, y_test, y_preds)\n",
    "        print(f\"\\n\")"
   ]
  },
  {
   "cell_type": "code",
   "execution_count": 46,
   "id": "b52c8c08-6818-4e28-8777-ac4719d3372d",
   "metadata": {},
   "outputs": [
    {
     "name": "stdout",
     "output_type": "stream",
     "text": [
      "Max_dept: 7, n_estimator: 100\n",
      "Training accuracy: 0.8484271943176053\n",
      "Test accuracy: 0.8189073050951504\n",
      "F1 score: 0.7764383186922232\n",
      "\n",
      "\n",
      "Max_dept: 8, n_estimator: 100\n",
      "Training accuracy: 0.8548959918822933\n",
      "Test accuracy: 0.8127685696746471\n",
      "F1 score: 0.7726926481790295\n",
      "\n",
      "\n",
      "Max_dept: 9, n_estimator: 100\n",
      "Training accuracy: 0.8763318112633182\n",
      "Test accuracy: 0.8207489257213014\n",
      "F1 score: 0.7825171730176961\n",
      "\n",
      "\n",
      "Max_dept: 10, n_estimator: 100\n",
      "Training accuracy: 0.8880010147133435\n",
      "Test accuracy: 0.8195211786372008\n",
      "F1 score: 0.780200282708865\n",
      "\n",
      "\n",
      "Max_dept: 12, n_estimator: 100\n",
      "Training accuracy: 0.915271435819381\n",
      "Test accuracy: 0.8219766728054021\n",
      "F1 score: 0.7809484859613395\n",
      "\n",
      "\n",
      "Max_dept: 13, n_estimator: 100\n",
      "Training accuracy: 0.9270674784373415\n",
      "Test accuracy: 0.8207489257213014\n",
      "F1 score: 0.7776786916139453\n",
      "\n",
      "\n",
      "Max_dept: 14, n_estimator: 100\n",
      "Training accuracy: 0.9378488077118214\n",
      "Test accuracy: 0.8268876611418048\n",
      "F1 score: 0.7826372091438695\n",
      "\n",
      "\n",
      "Max_dept: 15, n_estimator: 100\n",
      "Training accuracy: 0.9474885844748858\n",
      "Test accuracy: 0.8238182934315531\n",
      "F1 score: 0.7798500416969407\n",
      "\n",
      "\n"
     ]
    }
   ],
   "source": [
    "# Tuning Random Forest(2)\n",
    "for i in [100]:\n",
    "    for k in [7,8,9,10,12,13,14, 15]:\n",
    "        rfc = RandomForestClassifier(max_depth=k,n_estimators=i, random_state=42, class_weight={0:3, 1:2})\n",
    "        rfc.fit(X_train_new, y_train_new)\n",
    "        y_preds = rfc.predict(X_test)\n",
    "        print(f\"Max_dept: {k}, n_estimator: {i}\")\n",
    "        classifier_metric(rfc, X_train_new, y_train_new, y_test, y_preds)\n",
    "        print(f\"\\n\")"
   ]
  },
  {
   "cell_type": "code",
   "execution_count": 47,
   "id": "37bb1433-0d6d-401b-9bee-a2687b9fa415",
   "metadata": {},
   "outputs": [],
   "source": [
    "X = df.drop(columns=['wage','workclass','relationship'])\n",
    "y = df['wage']\n",
    "X = pd.get_dummies(X,drop_first=True)"
   ]
  },
  {
   "cell_type": "code",
   "execution_count": 48,
   "id": "022a81f4-cabc-4824-9f9f-e9fbe7a921bc",
   "metadata": {},
   "outputs": [
    {
     "name": "stdout",
     "output_type": "stream",
     "text": [
      "Training accuracy: 0.8439803439803439\n",
      "Test accuracy: 0.8189073050951504\n",
      "F1 score: 0.7764383186922232\n"
     ]
    }
   ],
   "source": [
    "# Final Random forest model\n",
    "rfc = RandomForestClassifier(max_depth=7,n_estimators=100, \n",
    "                             class_weight={0:3, 1:2},\n",
    "                             random_state=42)\n",
    "rfc.fit(X_train_new, y_train_new)\n",
    "y_preds = rfc.predict(X_test)\n",
    "classifier_metric(rfc, X_train, y_train, y_test, y_preds)"
   ]
  },
  {
   "cell_type": "markdown",
   "id": "065208c2-f40f-4e41-b81e-1186ab6c8243",
   "metadata": {},
   "source": [
    "### Submission"
   ]
  },
  {
   "cell_type": "code",
   "execution_count": 49,
   "id": "d7d25c44-d9b2-4e64-a53b-c640214401ad",
   "metadata": {},
   "outputs": [
    {
     "data": {
      "text/html": [
       "<div>\n",
       "<style scoped>\n",
       "    .dataframe tbody tr th:only-of-type {\n",
       "        vertical-align: middle;\n",
       "    }\n",
       "\n",
       "    .dataframe tbody tr th {\n",
       "        vertical-align: top;\n",
       "    }\n",
       "\n",
       "    .dataframe thead th {\n",
       "        text-align: right;\n",
       "    }\n",
       "</style>\n",
       "<table border=\"1\" class=\"dataframe\">\n",
       "  <thead>\n",
       "    <tr style=\"text-align: right;\">\n",
       "      <th></th>\n",
       "      <th>wage</th>\n",
       "    </tr>\n",
       "  </thead>\n",
       "  <tbody>\n",
       "    <tr>\n",
       "      <th>0</th>\n",
       "      <td>0</td>\n",
       "    </tr>\n",
       "    <tr>\n",
       "      <th>1</th>\n",
       "      <td>1</td>\n",
       "    </tr>\n",
       "    <tr>\n",
       "      <th>2</th>\n",
       "      <td>0</td>\n",
       "    </tr>\n",
       "    <tr>\n",
       "      <th>3</th>\n",
       "      <td>1</td>\n",
       "    </tr>\n",
       "    <tr>\n",
       "      <th>4</th>\n",
       "      <td>0</td>\n",
       "    </tr>\n",
       "  </tbody>\n",
       "</table>\n",
       "</div>"
      ],
      "text/plain": [
       "   wage\n",
       "0     0\n",
       "1     1\n",
       "2     0\n",
       "3     1\n",
       "4     0"
      ]
     },
     "execution_count": 49,
     "metadata": {},
     "output_type": "execute_result"
    }
   ],
   "source": [
    "# Submission cell\n",
    "submit = pd.read_csv(\"test_data.csv\")\n",
    "submit.head()\n",
    "def clean_func(df):\n",
    "    df['native-country'] = df['native-country'].map(lambda x: 1 if x ==' United-States' else 0)\n",
    "    df['sex'] = df['sex'].map({' Male':1, ' Female':0})\n",
    "\n",
    "clean_func(submit)\n",
    "X = submit\n",
    "X = pd.get_dummies(X, drop_first=True)\n",
    "preds = rfc.predict(X)\n",
    "pred_df = pd.DataFrame(preds,columns=['wage'])\n",
    "pred_df.head()"
   ]
  },
  {
   "cell_type": "markdown",
   "id": "180d4f88",
   "metadata": {},
   "source": [
    "# Manual Search for optimal model"
   ]
  },
  {
   "cell_type": "markdown",
   "id": "24f04f18",
   "metadata": {},
   "source": [
    "## Logistic Regression"
   ]
  },
  {
   "cell_type": "code",
   "execution_count": 50,
   "id": "bf462e4d",
   "metadata": {},
   "outputs": [
    {
     "data": {
      "text/html": [
       "<style>#sk-container-id-1 {color: black;background-color: white;}#sk-container-id-1 pre{padding: 0;}#sk-container-id-1 div.sk-toggleable {background-color: white;}#sk-container-id-1 label.sk-toggleable__label {cursor: pointer;display: block;width: 100%;margin-bottom: 0;padding: 0.3em;box-sizing: border-box;text-align: center;}#sk-container-id-1 label.sk-toggleable__label-arrow:before {content: \"▸\";float: left;margin-right: 0.25em;color: #696969;}#sk-container-id-1 label.sk-toggleable__label-arrow:hover:before {color: black;}#sk-container-id-1 div.sk-estimator:hover label.sk-toggleable__label-arrow:before {color: black;}#sk-container-id-1 div.sk-toggleable__content {max-height: 0;max-width: 0;overflow: hidden;text-align: left;background-color: #f0f8ff;}#sk-container-id-1 div.sk-toggleable__content pre {margin: 0.2em;color: black;border-radius: 0.25em;background-color: #f0f8ff;}#sk-container-id-1 input.sk-toggleable__control:checked~div.sk-toggleable__content {max-height: 200px;max-width: 100%;overflow: auto;}#sk-container-id-1 input.sk-toggleable__control:checked~label.sk-toggleable__label-arrow:before {content: \"▾\";}#sk-container-id-1 div.sk-estimator input.sk-toggleable__control:checked~label.sk-toggleable__label {background-color: #d4ebff;}#sk-container-id-1 div.sk-label input.sk-toggleable__control:checked~label.sk-toggleable__label {background-color: #d4ebff;}#sk-container-id-1 input.sk-hidden--visually {border: 0;clip: rect(1px 1px 1px 1px);clip: rect(1px, 1px, 1px, 1px);height: 1px;margin: -1px;overflow: hidden;padding: 0;position: absolute;width: 1px;}#sk-container-id-1 div.sk-estimator {font-family: monospace;background-color: #f0f8ff;border: 1px dotted black;border-radius: 0.25em;box-sizing: border-box;margin-bottom: 0.5em;}#sk-container-id-1 div.sk-estimator:hover {background-color: #d4ebff;}#sk-container-id-1 div.sk-parallel-item::after {content: \"\";width: 100%;border-bottom: 1px solid gray;flex-grow: 1;}#sk-container-id-1 div.sk-label:hover label.sk-toggleable__label {background-color: #d4ebff;}#sk-container-id-1 div.sk-serial::before {content: \"\";position: absolute;border-left: 1px solid gray;box-sizing: border-box;top: 0;bottom: 0;left: 50%;z-index: 0;}#sk-container-id-1 div.sk-serial {display: flex;flex-direction: column;align-items: center;background-color: white;padding-right: 0.2em;padding-left: 0.2em;position: relative;}#sk-container-id-1 div.sk-item {position: relative;z-index: 1;}#sk-container-id-1 div.sk-parallel {display: flex;align-items: stretch;justify-content: center;background-color: white;position: relative;}#sk-container-id-1 div.sk-item::before, #sk-container-id-1 div.sk-parallel-item::before {content: \"\";position: absolute;border-left: 1px solid gray;box-sizing: border-box;top: 0;bottom: 0;left: 50%;z-index: -1;}#sk-container-id-1 div.sk-parallel-item {display: flex;flex-direction: column;z-index: 1;position: relative;background-color: white;}#sk-container-id-1 div.sk-parallel-item:first-child::after {align-self: flex-end;width: 50%;}#sk-container-id-1 div.sk-parallel-item:last-child::after {align-self: flex-start;width: 50%;}#sk-container-id-1 div.sk-parallel-item:only-child::after {width: 0;}#sk-container-id-1 div.sk-dashed-wrapped {border: 1px dashed gray;margin: 0 0.4em 0.5em 0.4em;box-sizing: border-box;padding-bottom: 0.4em;background-color: white;}#sk-container-id-1 div.sk-label label {font-family: monospace;font-weight: bold;display: inline-block;line-height: 1.2em;}#sk-container-id-1 div.sk-label-container {text-align: center;}#sk-container-id-1 div.sk-container {/* jupyter's `normalize.less` sets `[hidden] { display: none; }` but bootstrap.min.css set `[hidden] { display: none !important; }` so we also need the `!important` here to be able to override the default hidden behavior on the sphinx rendered scikit-learn.org. See: https://github.com/scikit-learn/scikit-learn/issues/21755 */display: inline-block !important;position: relative;}#sk-container-id-1 div.sk-text-repr-fallback {display: none;}</style><div id=\"sk-container-id-1\" class=\"sk-top-container\"><div class=\"sk-text-repr-fallback\"><pre>LogisticRegression(max_iter=500)</pre><b>In a Jupyter environment, please rerun this cell to show the HTML representation or trust the notebook. <br />On GitHub, the HTML representation is unable to render, please try loading this page with nbviewer.org.</b></div><div class=\"sk-container\" hidden><div class=\"sk-item\"><div class=\"sk-estimator sk-toggleable\"><input class=\"sk-toggleable__control sk-hidden--visually\" id=\"sk-estimator-id-1\" type=\"checkbox\" checked><label for=\"sk-estimator-id-1\" class=\"sk-toggleable__label sk-toggleable__label-arrow\">LogisticRegression</label><div class=\"sk-toggleable__content\"><pre>LogisticRegression(max_iter=500)</pre></div></div></div></div></div>"
      ],
      "text/plain": [
       "LogisticRegression(max_iter=500)"
      ]
     },
     "execution_count": 50,
     "metadata": {},
     "output_type": "execute_result"
    }
   ],
   "source": [
    "model = LogisticRegression(max_iter=500)\n",
    "model.fit(X_train, y_train)"
   ]
  },
  {
   "cell_type": "code",
   "execution_count": 51,
   "id": "55109bd2",
   "metadata": {},
   "outputs": [],
   "source": [
    "y_preds = model.predict(X_test)"
   ]
  },
  {
   "cell_type": "code",
   "execution_count": 52,
   "id": "939274c5",
   "metadata": {},
   "outputs": [
    {
     "data": {
      "text/plain": [
       "0.759009009009009"
      ]
     },
     "execution_count": 52,
     "metadata": {},
     "output_type": "execute_result"
    }
   ],
   "source": [
    "# Baseline Accuracy = 76%\n",
    "1 - y_train.mean()"
   ]
  },
  {
   "cell_type": "code",
   "execution_count": 53,
   "id": "cbc62dc7",
   "metadata": {},
   "outputs": [
    {
     "data": {
      "text/plain": [
       "0.8294430794430795"
      ]
     },
     "execution_count": 53,
     "metadata": {},
     "output_type": "execute_result"
    }
   ],
   "source": [
    "# Training Score\n",
    "model.score(X_train, y_train)"
   ]
  },
  {
   "cell_type": "code",
   "execution_count": 54,
   "id": "5236b64a",
   "metadata": {},
   "outputs": [
    {
     "data": {
      "text/plain": [
       "0.8182934315531001"
      ]
     },
     "execution_count": 54,
     "metadata": {},
     "output_type": "execute_result"
    }
   ],
   "source": [
    "# Training Score\n",
    "model.score(X_test, y_test)"
   ]
  },
  {
   "cell_type": "code",
   "execution_count": 55,
   "id": "9404ccaa",
   "metadata": {},
   "outputs": [
    {
     "data": {
      "text/plain": [
       "0.5672514619883041"
      ]
     },
     "execution_count": 55,
     "metadata": {},
     "output_type": "execute_result"
    }
   ],
   "source": [
    "f1_score(y_test, y_preds)"
   ]
  },
  {
   "cell_type": "markdown",
   "id": "6854c31f",
   "metadata": {},
   "source": [
    "## Neural Network"
   ]
  },
  {
   "cell_type": "code",
   "execution_count": 56,
   "id": "92643f4f",
   "metadata": {},
   "outputs": [],
   "source": [
    "sc = StandardScaler()\n",
    "X_train_sc = sc.fit_transform(X_train)\n",
    "X_test_sc = sc.transform(X_test)"
   ]
  },
  {
   "cell_type": "code",
   "execution_count": 57,
   "id": "d9dd8b4b",
   "metadata": {},
   "outputs": [
    {
     "data": {
      "text/plain": [
       "56"
      ]
     },
     "execution_count": 57,
     "metadata": {},
     "output_type": "execute_result"
    }
   ],
   "source": [
    "X_train_sc.shape[1]"
   ]
  },
  {
   "cell_type": "code",
   "execution_count": 58,
   "id": "d3433456",
   "metadata": {},
   "outputs": [],
   "source": [
    "# 1. Model\n",
    "# Insert model here...\n",
    "model = Sequential()\n",
    "\n",
    "# Sequential groups a linear stack of layers into a tf.keras.Model.\n",
    "# Sequential provides training and inference features on this model.\n",
    "\n",
    "model.add(Dense(64, activation='relu', input_shape=(X_train_sc.shape[1],)))\n",
    "model.add(Dense(32, activation='relu'))\n",
    "\n",
    "# Binary classification\n",
    "# Output layer with one neuron (node)\n",
    "model.add(Dense(1, activation='sigmoid'))"
   ]
  },
  {
   "cell_type": "code",
   "execution_count": 59,
   "id": "fe7a13d7",
   "metadata": {},
   "outputs": [],
   "source": [
    "# 2. Compile\n",
    "model.compile(loss='bce', optimizer='adam', metrics=['accuracy'])"
   ]
  },
  {
   "cell_type": "code",
   "execution_count": 60,
   "id": "048d3f2b",
   "metadata": {},
   "outputs": [
    {
     "name": "stdout",
     "output_type": "stream",
     "text": [
      "Epoch 1/100\n",
      "77/77 [==============================] - 1s 3ms/step - loss: 0.4274 - accuracy: 0.7936 - val_loss: 0.3690 - val_accuracy: 0.8281\n",
      "Epoch 2/100\n",
      "77/77 [==============================] - 0s 1ms/step - loss: 0.3313 - accuracy: 0.8425 - val_loss: 0.3556 - val_accuracy: 0.8293\n",
      "Epoch 3/100\n",
      "77/77 [==============================] - 0s 1ms/step - loss: 0.3141 - accuracy: 0.8534 - val_loss: 0.3521 - val_accuracy: 0.8287\n",
      "Epoch 4/100\n",
      "77/77 [==============================] - 0s 1ms/step - loss: 0.3024 - accuracy: 0.8567 - val_loss: 0.3502 - val_accuracy: 0.8300\n",
      "Epoch 5/100\n",
      "77/77 [==============================] - 0s 1ms/step - loss: 0.2942 - accuracy: 0.8608 - val_loss: 0.3463 - val_accuracy: 0.8306\n",
      "Epoch 6/100\n",
      "77/77 [==============================] - 0s 1ms/step - loss: 0.2870 - accuracy: 0.8636 - val_loss: 0.3463 - val_accuracy: 0.8336\n",
      "Epoch 7/100\n",
      "77/77 [==============================] - 0s 1ms/step - loss: 0.2809 - accuracy: 0.8681 - val_loss: 0.3474 - val_accuracy: 0.8324\n",
      "Epoch 8/100\n",
      "77/77 [==============================] - 0s 1ms/step - loss: 0.2757 - accuracy: 0.8708 - val_loss: 0.3476 - val_accuracy: 0.8367\n",
      "Epoch 9/100\n",
      "77/77 [==============================] - 0s 1ms/step - loss: 0.2697 - accuracy: 0.8765 - val_loss: 0.3529 - val_accuracy: 0.8312\n",
      "Epoch 10/100\n",
      "77/77 [==============================] - 0s 1ms/step - loss: 0.2654 - accuracy: 0.8761 - val_loss: 0.3526 - val_accuracy: 0.8343\n",
      "Epoch 11/100\n",
      "77/77 [==============================] - 0s 1ms/step - loss: 0.2626 - accuracy: 0.8763 - val_loss: 0.3524 - val_accuracy: 0.8404\n",
      "Epoch 12/100\n",
      "77/77 [==============================] - 0s 1ms/step - loss: 0.2589 - accuracy: 0.8831 - val_loss: 0.3605 - val_accuracy: 0.8343\n",
      "Epoch 13/100\n",
      "77/77 [==============================] - 0s 1ms/step - loss: 0.2540 - accuracy: 0.8857 - val_loss: 0.3555 - val_accuracy: 0.8330\n",
      "Epoch 14/100\n",
      "77/77 [==============================] - 0s 1ms/step - loss: 0.2485 - accuracy: 0.8864 - val_loss: 0.3595 - val_accuracy: 0.8336\n",
      "Epoch 15/100\n",
      "77/77 [==============================] - 0s 2ms/step - loss: 0.2458 - accuracy: 0.8866 - val_loss: 0.3553 - val_accuracy: 0.8367\n",
      "Epoch 16/100\n",
      "77/77 [==============================] - 0s 1ms/step - loss: 0.2445 - accuracy: 0.8896 - val_loss: 0.3585 - val_accuracy: 0.8379\n",
      "Epoch 17/100\n",
      "77/77 [==============================] - 0s 1ms/step - loss: 0.2396 - accuracy: 0.8892 - val_loss: 0.3673 - val_accuracy: 0.8373\n",
      "Epoch 18/100\n",
      "77/77 [==============================] - 0s 1ms/step - loss: 0.2360 - accuracy: 0.8909 - val_loss: 0.3621 - val_accuracy: 0.8343\n",
      "Epoch 19/100\n",
      "77/77 [==============================] - 0s 1ms/step - loss: 0.2323 - accuracy: 0.8970 - val_loss: 0.3642 - val_accuracy: 0.8410\n",
      "Epoch 20/100\n",
      "77/77 [==============================] - 0s 1ms/step - loss: 0.2298 - accuracy: 0.8954 - val_loss: 0.3748 - val_accuracy: 0.8312\n",
      "Epoch 21/100\n",
      "77/77 [==============================] - 0s 1ms/step - loss: 0.2261 - accuracy: 0.8984 - val_loss: 0.3779 - val_accuracy: 0.8324\n",
      "Epoch 22/100\n",
      "77/77 [==============================] - 0s 1ms/step - loss: 0.2220 - accuracy: 0.9007 - val_loss: 0.3807 - val_accuracy: 0.8416\n",
      "Epoch 23/100\n",
      "77/77 [==============================] - 0s 1ms/step - loss: 0.2200 - accuracy: 0.9011 - val_loss: 0.3862 - val_accuracy: 0.8318\n",
      "Epoch 24/100\n",
      "77/77 [==============================] - 0s 1ms/step - loss: 0.2155 - accuracy: 0.9032 - val_loss: 0.3770 - val_accuracy: 0.8361\n",
      "Epoch 25/100\n",
      "77/77 [==============================] - 0s 1ms/step - loss: 0.2141 - accuracy: 0.9040 - val_loss: 0.3933 - val_accuracy: 0.8293\n",
      "Epoch 26/100\n",
      "77/77 [==============================] - 0s 1ms/step - loss: 0.2114 - accuracy: 0.9062 - val_loss: 0.3964 - val_accuracy: 0.8361\n",
      "Epoch 27/100\n",
      "77/77 [==============================] - 0s 1ms/step - loss: 0.2083 - accuracy: 0.9060 - val_loss: 0.3974 - val_accuracy: 0.8336\n",
      "Epoch 28/100\n",
      "77/77 [==============================] - 0s 1ms/step - loss: 0.2054 - accuracy: 0.9097 - val_loss: 0.4000 - val_accuracy: 0.8306\n",
      "Epoch 29/100\n",
      "77/77 [==============================] - 0s 1ms/step - loss: 0.2015 - accuracy: 0.9093 - val_loss: 0.4086 - val_accuracy: 0.8306\n",
      "Epoch 30/100\n",
      "77/77 [==============================] - 0s 1ms/step - loss: 0.1996 - accuracy: 0.9118 - val_loss: 0.4100 - val_accuracy: 0.8257\n",
      "Epoch 31/100\n",
      "77/77 [==============================] - 0s 1ms/step - loss: 0.1963 - accuracy: 0.9085 - val_loss: 0.4111 - val_accuracy: 0.8306\n",
      "Epoch 32/100\n",
      "77/77 [==============================] - 0s 1ms/step - loss: 0.1947 - accuracy: 0.9128 - val_loss: 0.4299 - val_accuracy: 0.8269\n",
      "Epoch 33/100\n",
      "77/77 [==============================] - 0s 1ms/step - loss: 0.1933 - accuracy: 0.9128 - val_loss: 0.4278 - val_accuracy: 0.8281\n",
      "Epoch 34/100\n",
      "77/77 [==============================] - 0s 1ms/step - loss: 0.1909 - accuracy: 0.9138 - val_loss: 0.4223 - val_accuracy: 0.8250\n",
      "Epoch 35/100\n",
      "77/77 [==============================] - 0s 1ms/step - loss: 0.1873 - accuracy: 0.9167 - val_loss: 0.4305 - val_accuracy: 0.8257\n",
      "Epoch 36/100\n",
      "77/77 [==============================] - 0s 2ms/step - loss: 0.1862 - accuracy: 0.9191 - val_loss: 0.4330 - val_accuracy: 0.8318\n",
      "Epoch 37/100\n",
      "77/77 [==============================] - 0s 2ms/step - loss: 0.1820 - accuracy: 0.9191 - val_loss: 0.4378 - val_accuracy: 0.8250\n",
      "Epoch 38/100\n",
      "77/77 [==============================] - 0s 1ms/step - loss: 0.1807 - accuracy: 0.9177 - val_loss: 0.4461 - val_accuracy: 0.8263\n",
      "Epoch 39/100\n",
      "77/77 [==============================] - 0s 1ms/step - loss: 0.1769 - accuracy: 0.9204 - val_loss: 0.4474 - val_accuracy: 0.8232\n",
      "Epoch 40/100\n",
      "77/77 [==============================] - 0s 2ms/step - loss: 0.1759 - accuracy: 0.9230 - val_loss: 0.4545 - val_accuracy: 0.8207\n",
      "Epoch 41/100\n",
      "77/77 [==============================] - 0s 1ms/step - loss: 0.1728 - accuracy: 0.9267 - val_loss: 0.4557 - val_accuracy: 0.8214\n",
      "Epoch 42/100\n",
      "77/77 [==============================] - 0s 1ms/step - loss: 0.1716 - accuracy: 0.9247 - val_loss: 0.4688 - val_accuracy: 0.8220\n",
      "Epoch 43/100\n",
      "77/77 [==============================] - 0s 1ms/step - loss: 0.1726 - accuracy: 0.9230 - val_loss: 0.4843 - val_accuracy: 0.8263\n",
      "Epoch 44/100\n",
      "77/77 [==============================] - 0s 1ms/step - loss: 0.1670 - accuracy: 0.9259 - val_loss: 0.4733 - val_accuracy: 0.8220\n",
      "Epoch 45/100\n",
      "77/77 [==============================] - 0s 1ms/step - loss: 0.1660 - accuracy: 0.9259 - val_loss: 0.4772 - val_accuracy: 0.8306\n",
      "Epoch 46/100\n",
      "77/77 [==============================] - 0s 2ms/step - loss: 0.1637 - accuracy: 0.9292 - val_loss: 0.4964 - val_accuracy: 0.8263\n",
      "Epoch 47/100\n",
      "77/77 [==============================] - 0s 1ms/step - loss: 0.1635 - accuracy: 0.9300 - val_loss: 0.4824 - val_accuracy: 0.8250\n",
      "Epoch 48/100\n",
      "77/77 [==============================] - 0s 1ms/step - loss: 0.1607 - accuracy: 0.9316 - val_loss: 0.4913 - val_accuracy: 0.8250\n",
      "Epoch 49/100\n",
      "77/77 [==============================] - 0s 2ms/step - loss: 0.1605 - accuracy: 0.9306 - val_loss: 0.4897 - val_accuracy: 0.8207\n",
      "Epoch 50/100\n",
      "77/77 [==============================] - 0s 1ms/step - loss: 0.1569 - accuracy: 0.9316 - val_loss: 0.4979 - val_accuracy: 0.8195\n",
      "Epoch 51/100\n",
      "77/77 [==============================] - 0s 1ms/step - loss: 0.1552 - accuracy: 0.9324 - val_loss: 0.4939 - val_accuracy: 0.8195\n",
      "Epoch 52/100\n",
      "77/77 [==============================] - 0s 1ms/step - loss: 0.1537 - accuracy: 0.9324 - val_loss: 0.5225 - val_accuracy: 0.8189\n",
      "Epoch 53/100\n",
      "77/77 [==============================] - 0s 2ms/step - loss: 0.1548 - accuracy: 0.9320 - val_loss: 0.5140 - val_accuracy: 0.8189\n",
      "Epoch 54/100\n",
      "77/77 [==============================] - 0s 2ms/step - loss: 0.1515 - accuracy: 0.9330 - val_loss: 0.5211 - val_accuracy: 0.8201\n",
      "Epoch 55/100\n",
      "77/77 [==============================] - 0s 1ms/step - loss: 0.1511 - accuracy: 0.9333 - val_loss: 0.5247 - val_accuracy: 0.8263\n",
      "Epoch 56/100\n",
      "77/77 [==============================] - 0s 1ms/step - loss: 0.1466 - accuracy: 0.9392 - val_loss: 0.5277 - val_accuracy: 0.8207\n",
      "Epoch 57/100\n",
      "77/77 [==============================] - 0s 1ms/step - loss: 0.1461 - accuracy: 0.9388 - val_loss: 0.5342 - val_accuracy: 0.8220\n",
      "Epoch 58/100\n",
      "77/77 [==============================] - 0s 1ms/step - loss: 0.1450 - accuracy: 0.9367 - val_loss: 0.5440 - val_accuracy: 0.8158\n",
      "Epoch 59/100\n",
      "77/77 [==============================] - 0s 2ms/step - loss: 0.1446 - accuracy: 0.9406 - val_loss: 0.5514 - val_accuracy: 0.8263\n",
      "Epoch 60/100\n",
      "77/77 [==============================] - 0s 1ms/step - loss: 0.1400 - accuracy: 0.9406 - val_loss: 0.5541 - val_accuracy: 0.8214\n",
      "Epoch 61/100\n",
      "77/77 [==============================] - 0s 2ms/step - loss: 0.1411 - accuracy: 0.9412 - val_loss: 0.5723 - val_accuracy: 0.8220\n",
      "Epoch 62/100\n",
      "77/77 [==============================] - 0s 2ms/step - loss: 0.1414 - accuracy: 0.9347 - val_loss: 0.5586 - val_accuracy: 0.8189\n",
      "Epoch 63/100\n",
      "77/77 [==============================] - 0s 1ms/step - loss: 0.1401 - accuracy: 0.9416 - val_loss: 0.5655 - val_accuracy: 0.8165\n",
      "Epoch 64/100\n",
      "77/77 [==============================] - 0s 1ms/step - loss: 0.1380 - accuracy: 0.9410 - val_loss: 0.5773 - val_accuracy: 0.8214\n",
      "Epoch 65/100\n",
      "77/77 [==============================] - 0s 2ms/step - loss: 0.1351 - accuracy: 0.9439 - val_loss: 0.5752 - val_accuracy: 0.8183\n",
      "Epoch 66/100\n",
      "77/77 [==============================] - 0s 1ms/step - loss: 0.1353 - accuracy: 0.9408 - val_loss: 0.5822 - val_accuracy: 0.8232\n",
      "Epoch 67/100\n",
      "77/77 [==============================] - 0s 1ms/step - loss: 0.1349 - accuracy: 0.9416 - val_loss: 0.5673 - val_accuracy: 0.8244\n",
      "Epoch 68/100\n",
      "77/77 [==============================] - 0s 1ms/step - loss: 0.1349 - accuracy: 0.9425 - val_loss: 0.5859 - val_accuracy: 0.8140\n",
      "Epoch 69/100\n",
      "77/77 [==============================] - 0s 1ms/step - loss: 0.1312 - accuracy: 0.9437 - val_loss: 0.5981 - val_accuracy: 0.8171\n",
      "Epoch 70/100\n",
      "77/77 [==============================] - 0s 1ms/step - loss: 0.1298 - accuracy: 0.9451 - val_loss: 0.6048 - val_accuracy: 0.8287\n",
      "Epoch 71/100\n",
      "77/77 [==============================] - 0s 1ms/step - loss: 0.1286 - accuracy: 0.9464 - val_loss: 0.6195 - val_accuracy: 0.8152\n",
      "Epoch 72/100\n",
      "77/77 [==============================] - 0s 1ms/step - loss: 0.1289 - accuracy: 0.9464 - val_loss: 0.6106 - val_accuracy: 0.8171\n",
      "Epoch 73/100\n",
      "77/77 [==============================] - 0s 1ms/step - loss: 0.1269 - accuracy: 0.9445 - val_loss: 0.6117 - val_accuracy: 0.8146\n",
      "Epoch 74/100\n",
      "77/77 [==============================] - 0s 1ms/step - loss: 0.1264 - accuracy: 0.9480 - val_loss: 0.6370 - val_accuracy: 0.8226\n",
      "Epoch 75/100\n",
      "77/77 [==============================] - 0s 1ms/step - loss: 0.1264 - accuracy: 0.9459 - val_loss: 0.6088 - val_accuracy: 0.8134\n",
      "Epoch 76/100\n",
      "77/77 [==============================] - 0s 1ms/step - loss: 0.1244 - accuracy: 0.9484 - val_loss: 0.6278 - val_accuracy: 0.8183\n",
      "Epoch 77/100\n",
      "77/77 [==============================] - 0s 1ms/step - loss: 0.1226 - accuracy: 0.9470 - val_loss: 0.6275 - val_accuracy: 0.8165\n",
      "Epoch 78/100\n",
      "77/77 [==============================] - 0s 1ms/step - loss: 0.1209 - accuracy: 0.9478 - val_loss: 0.6302 - val_accuracy: 0.8189\n",
      "Epoch 79/100\n",
      "77/77 [==============================] - 0s 1ms/step - loss: 0.1225 - accuracy: 0.9451 - val_loss: 0.6444 - val_accuracy: 0.8152\n",
      "Epoch 80/100\n",
      "77/77 [==============================] - 0s 1ms/step - loss: 0.1226 - accuracy: 0.9476 - val_loss: 0.6376 - val_accuracy: 0.8152\n",
      "Epoch 81/100\n",
      "77/77 [==============================] - 0s 1ms/step - loss: 0.1183 - accuracy: 0.9511 - val_loss: 0.6357 - val_accuracy: 0.8171\n",
      "Epoch 82/100\n",
      "77/77 [==============================] - 0s 1ms/step - loss: 0.1192 - accuracy: 0.9492 - val_loss: 0.6508 - val_accuracy: 0.8140\n",
      "Epoch 83/100\n",
      "77/77 [==============================] - 0s 1ms/step - loss: 0.1198 - accuracy: 0.9472 - val_loss: 0.6579 - val_accuracy: 0.8128\n",
      "Epoch 84/100\n",
      "77/77 [==============================] - 0s 1ms/step - loss: 0.1172 - accuracy: 0.9502 - val_loss: 0.6627 - val_accuracy: 0.8165\n",
      "Epoch 85/100\n",
      "77/77 [==============================] - 0s 1ms/step - loss: 0.1157 - accuracy: 0.9519 - val_loss: 0.6648 - val_accuracy: 0.8115\n",
      "Epoch 86/100\n",
      "77/77 [==============================] - 0s 1ms/step - loss: 0.1133 - accuracy: 0.9550 - val_loss: 0.6833 - val_accuracy: 0.8122\n",
      "Epoch 87/100\n",
      "77/77 [==============================] - 0s 1ms/step - loss: 0.1129 - accuracy: 0.9521 - val_loss: 0.6806 - val_accuracy: 0.8066\n",
      "Epoch 88/100\n",
      "77/77 [==============================] - 0s 1ms/step - loss: 0.1129 - accuracy: 0.9513 - val_loss: 0.6786 - val_accuracy: 0.8122\n",
      "Epoch 89/100\n",
      "77/77 [==============================] - 0s 1ms/step - loss: 0.1148 - accuracy: 0.9505 - val_loss: 0.6788 - val_accuracy: 0.8109\n",
      "Epoch 90/100\n",
      "77/77 [==============================] - 0s 1ms/step - loss: 0.1109 - accuracy: 0.9523 - val_loss: 0.6896 - val_accuracy: 0.8128\n",
      "Epoch 91/100\n",
      "77/77 [==============================] - 0s 1ms/step - loss: 0.1098 - accuracy: 0.9543 - val_loss: 0.7209 - val_accuracy: 0.8091\n",
      "Epoch 92/100\n",
      "77/77 [==============================] - 0s 1ms/step - loss: 0.1122 - accuracy: 0.9509 - val_loss: 0.6850 - val_accuracy: 0.8183\n",
      "Epoch 93/100\n",
      "77/77 [==============================] - 0s 1ms/step - loss: 0.1091 - accuracy: 0.9550 - val_loss: 0.6856 - val_accuracy: 0.8072\n",
      "Epoch 94/100\n",
      "77/77 [==============================] - 0s 1ms/step - loss: 0.1112 - accuracy: 0.9500 - val_loss: 0.6974 - val_accuracy: 0.8128\n",
      "Epoch 95/100\n",
      "77/77 [==============================] - 0s 1ms/step - loss: 0.1078 - accuracy: 0.9539 - val_loss: 0.7174 - val_accuracy: 0.8134\n",
      "Epoch 96/100\n",
      "77/77 [==============================] - 0s 1ms/step - loss: 0.1061 - accuracy: 0.9539 - val_loss: 0.7266 - val_accuracy: 0.8134\n",
      "Epoch 97/100\n",
      "77/77 [==============================] - 0s 1ms/step - loss: 0.1067 - accuracy: 0.9537 - val_loss: 0.7252 - val_accuracy: 0.8134\n",
      "Epoch 98/100\n",
      "77/77 [==============================] - 0s 1ms/step - loss: 0.1031 - accuracy: 0.9572 - val_loss: 0.7242 - val_accuracy: 0.8158\n",
      "Epoch 99/100\n",
      "77/77 [==============================] - 0s 1ms/step - loss: 0.1043 - accuracy: 0.9545 - val_loss: 0.7383 - val_accuracy: 0.8091\n",
      "Epoch 100/100\n",
      "77/77 [==============================] - 0s 1ms/step - loss: 0.1055 - accuracy: 0.9554 - val_loss: 0.7452 - val_accuracy: 0.8079\n"
     ]
    }
   ],
   "source": [
    "# 3. Fit\n",
    "res = model.fit(X_train_sc, y_train,\n",
    "                epochs=100,\n",
    "                batch_size=64,\n",
    "                validation_data = (X_test_sc, y_test),\n",
    "                verbose=1) # No printing of output\n",
    "\n",
    "\n",
    "# verbose: 'auto', 0, 1, or 2. Verbosity mode.\n",
    "        # 0 = silent, 1 = progress bar, 2 = one line per epoch."
   ]
  },
  {
   "cell_type": "code",
   "execution_count": 61,
   "id": "56e300d8",
   "metadata": {},
   "outputs": [
    {
     "name": "stdout",
     "output_type": "stream",
     "text": [
      "51/51 [==============================] - 0s 601us/step\n"
     ]
    }
   ],
   "source": [
    "preds = model.predict(X_test_sc)"
   ]
  },
  {
   "cell_type": "code",
   "execution_count": 62,
   "id": "3afb6fbe",
   "metadata": {},
   "outputs": [],
   "source": [
    "preds = (preds > 0.5).astype(\"int32\")"
   ]
  },
  {
   "cell_type": "code",
   "execution_count": 63,
   "id": "f451acda",
   "metadata": {},
   "outputs": [
    {
     "data": {
      "text/plain": [
       "array([[0],\n",
       "       [0],\n",
       "       [0],\n",
       "       ...,\n",
       "       [0],\n",
       "       [0],\n",
       "       [0]])"
      ]
     },
     "execution_count": 63,
     "metadata": {},
     "output_type": "execute_result"
    }
   ],
   "source": [
    "preds"
   ]
  },
  {
   "cell_type": "code",
   "execution_count": 64,
   "id": "4559d122",
   "metadata": {},
   "outputs": [
    {
     "data": {
      "text/plain": [
       "0.5787348586810229"
      ]
     },
     "execution_count": 64,
     "metadata": {},
     "output_type": "execute_result"
    }
   ],
   "source": [
    "f1_score(y_test, preds)"
   ]
  },
  {
   "cell_type": "code",
   "execution_count": 65,
   "id": "16d08650",
   "metadata": {},
   "outputs": [
    {
     "data": {
      "text/plain": [
       "5777    0\n",
       "1339    1\n",
       "1192    0\n",
       "1881    0\n",
       "3214    0\n",
       "       ..\n",
       "3887    0\n",
       "1168    1\n",
       "2921    0\n",
       "2899    0\n",
       "4317    0\n",
       "Name: wage, Length: 1629, dtype: int64"
      ]
     },
     "execution_count": 65,
     "metadata": {},
     "output_type": "execute_result"
    }
   ],
   "source": [
    "y_test"
   ]
  },
  {
   "cell_type": "code",
   "execution_count": 66,
   "id": "001cf654",
   "metadata": {},
   "outputs": [
    {
     "data": {
      "image/png": "[encoded data removed]",
      "text/plain": [
       "<Figure size 864x576 with 1 Axes>"
      ]
     },
     "metadata": {
      "needs_background": "light"
     },
     "output_type": "display_data"
    }
   ],
   "source": [
    "# Visualize the loss\n",
    "train_loss = res.history['loss']\n",
    "test_loss = res.history['val_loss']\n",
    "\n",
    "plt.figure(figsize=(12, 8))\n",
    "plt.plot(train_loss, label='Training loss', color='navy')\n",
    "plt.plot(test_loss, label='Testing loss', color='skyblue')\n",
    "plt.legend();"
   ]
  },
  {
   "cell_type": "markdown",
   "id": "b182f183",
   "metadata": {},
   "source": [
    "# Auto Search for Model"
   ]
  },
  {
   "cell_type": "code",
   "execution_count": 67,
   "id": "78b6c695",
   "metadata": {},
   "outputs": [],
   "source": [
    "# !pip install lazypredict"
   ]
  },
  {
   "cell_type": "code",
   "execution_count": 68,
   "id": "4c8f1472-5321-4a09-882e-996623dd7c29",
   "metadata": {},
   "outputs": [
    {
     "name": "stderr",
     "output_type": "stream",
     "text": [
      "100%|██████████████████████████████████████████████████████████████████████████████████| 29/29 [00:07<00:00,  3.78it/s]"
     ]
    },
    {
     "name": "stdout",
     "output_type": "stream",
     "text": [
      "                               Accuracy  Balanced Accuracy  ROC AUC  F1 Score  \\\n",
      "Model                                                                           \n",
      "NearestCentroid                    0.79               0.79     0.79      0.80   \n",
      "PassiveAggressiveClassifier        0.79               0.78     0.78      0.80   \n",
      "LGBMClassifier                     0.85               0.77     0.77      0.85   \n",
      "BernoulliNB                        0.81               0.76     0.76      0.82   \n",
      "XGBClassifier                      0.84               0.76     0.76      0.84   \n",
      "AdaBoostClassifier                 0.85               0.75     0.75      0.84   \n",
      "RandomForestClassifier             0.84               0.74     0.74      0.83   \n",
      "BaggingClassifier                  0.84               0.74     0.74      0.83   \n",
      "LogisticRegression                 0.84               0.73     0.73      0.83   \n",
      "LinearSVC                          0.84               0.73     0.73      0.83   \n",
      "Perceptron                         0.80               0.73     0.73      0.80   \n",
      "CalibratedClassifierCV             0.84               0.73     0.73      0.83   \n",
      "KNeighborsClassifier               0.81               0.73     0.73      0.81   \n",
      "ExtraTreesClassifier               0.82               0.73     0.73      0.81   \n",
      "DecisionTreeClassifier             0.79               0.72     0.72      0.79   \n",
      "ExtraTreeClassifier                0.80               0.72     0.72      0.80   \n",
      "SVC                                0.83               0.72     0.72      0.82   \n",
      "LinearDiscriminantAnalysis         0.83               0.71     0.71      0.82   \n",
      "LabelPropagation                   0.78               0.70     0.70      0.78   \n",
      "LabelSpreading                     0.78               0.70     0.70      0.78   \n",
      "RidgeClassifier                    0.83               0.70     0.70      0.81   \n",
      "RidgeClassifierCV                  0.83               0.69     0.69      0.81   \n",
      "SGDClassifier                      0.82               0.69     0.69      0.80   \n",
      "GaussianNB                         0.52               0.67     0.67      0.54   \n",
      "QuadraticDiscriminantAnalysis      0.53               0.66     0.66      0.55   \n",
      "DummyClassifier                    0.76               0.50     0.50      0.66   \n",
      "\n",
      "                               Time Taken  \n",
      "Model                                      \n",
      "NearestCentroid                      0.02  \n",
      "PassiveAggressiveClassifier          0.03  \n",
      "LGBMClassifier                       0.12  \n",
      "BernoulliNB                          0.02  \n",
      "XGBClassifier                        0.72  \n",
      "AdaBoostClassifier                   0.24  \n",
      "RandomForestClassifier               0.35  \n",
      "BaggingClassifier                    0.14  \n",
      "LogisticRegression                   0.04  \n",
      "LinearSVC                            0.34  \n",
      "Perceptron                           0.03  \n",
      "CalibratedClassifierCV               1.33  \n",
      "KNeighborsClassifier                 0.10  \n",
      "ExtraTreesClassifier                 0.38  \n",
      "DecisionTreeClassifier               0.03  \n",
      "ExtraTreeClassifier                  0.02  \n",
      "SVC                                  0.65  \n",
      "LinearDiscriminantAnalysis           0.06  \n",
      "LabelPropagation                     1.29  \n",
      "LabelSpreading                       1.52  \n",
      "RidgeClassifier                      0.03  \n",
      "RidgeClassifierCV                    0.03  \n",
      "SGDClassifier                        0.04  \n",
      "GaussianNB                           0.02  \n",
      "QuadraticDiscriminantAnalysis        0.03  \n",
      "DummyClassifier                      0.02  \n"
     ]
    },
    {
     "name": "stderr",
     "output_type": "stream",
     "text": [
      "\n"
     ]
    }
   ],
   "source": [
    "from lazypredict.Supervised import LazyClassifier\n",
    "\n",
    "clf = LazyClassifier(verbose=0,ignore_warnings=True, custom_metric=None)\n",
    "models,predictions = clf.fit(X_train, X_test, y_train, y_test)\n",
    "\n",
    "print(models)"
   ]
  }
 ],
 "metadata": {
  "kernelspec": {
   "display_name": "Python 3 (ipykernel)",
   "language": "python",
   "name": "python3"
  },
  "language_info": {
   "codemirror_mode": {
    "name": "ipython",
    "version": 3
   },
   "file_extension": ".py",
   "mimetype": "text/x-python",
   "name": "python",
   "nbconvert_exporter": "python",
   "pygments_lexer": "ipython3",
   "version": "3.9.12"
  }
 },
 "nbformat": 4,
 "nbformat_minor": 5
}
